{
 "cells": [
  {
   "cell_type": "markdown",
   "id": "2151396e-0934-4455-989d-a317ceb90e23",
   "metadata": {},
   "source": [
    "# Compressing MPS\n",
    "## Overview\n",
    "In this notebook we will show how to compress the wavefuntion stored in an MPS via singular value decomposition (SVD)."
   ]
  },
  {
   "cell_type": "markdown",
   "id": "f0a23995-a701-4cf5-be37-5f27866597ed",
   "metadata": {},
   "source": [
    "## The model\n",
    "In this tutorial we will skip the process of building the model from scratch and use one of the pre-built models in Renormalizer that is frequently used for testing.\n",
    "The model we use is a Frenkel-Holstein model with 3 electronic sites and 2 vibration modes for each electronic site\n",
    "\n",
    "$$\n",
    "\\hat H = \\sum_{i=1}^3\\sum_{j=1}^3 J_{ij} \\hat a^\\dagger_i \\hat a_{i+1} + \\sum_{i=1}^3\\sum_{k=1,2}\\frac{1}{2}  (\\hat p_{ik}^2 + \\omega_k^2 \\hat x_{ik}^2) + \\sum_{i=1}^3\\sum_{k=1,2} \\hat a^\\dagger_i \\hat a_i \\hat x_{ik}\n",
    "$$\n",
    "\n",
    "Therefore, the model has 9 sites in total. 3 of them are electronic sites and the rest are vibrational sites."
   ]
  },
  {
   "cell_type": "code",
   "execution_count": 1,
   "id": "c1172b48-f891-425f-ba30-6e8b2c04cdbc",
   "metadata": {
    "execution": {
     "iopub.execute_input": "2024-09-12T12:06:14.777029Z",
     "iopub.status.busy": "2024-09-12T12:06:14.776830Z",
     "iopub.status.idle": "2024-09-12T12:06:15.456466Z",
     "shell.execute_reply": "2024-09-12T12:06:15.455697Z"
    }
   },
   "outputs": [
    {
     "name": "stderr",
     "output_type": "stream",
     "text": [
      "2024-09-12 12:06:15,407[INFO] Use NumPy as backend\n"
     ]
    },
    {
     "name": "stderr",
     "output_type": "stream",
     "text": [
      "2024-09-12 12:06:15,408[INFO] numpy random seed is 9012\n"
     ]
    },
    {
     "name": "stderr",
     "output_type": "stream",
     "text": [
      "2024-09-12 12:06:15,408[INFO] random seed is 1092\n"
     ]
    },
    {
     "name": "stderr",
     "output_type": "stream",
     "text": [
      "2024-09-12 12:06:15,418[INFO] Git Commit Hash: befa1b6905ceb62fec5b1d711b893eaee55eea78\n"
     ]
    },
    {
     "name": "stderr",
     "output_type": "stream",
     "text": [
      "2024-09-12 12:06:15,419[INFO] use 64 bits\n"
     ]
    }
   ],
   "source": [
    "from renormalizer.tests.parameter import holstein_model"
   ]
  },
  {
   "cell_type": "code",
   "execution_count": 2,
   "id": "04ae5c85-d8f2-4c14-a2a7-f1d37e2db36a",
   "metadata": {
    "execution": {
     "iopub.execute_input": "2024-09-12T12:06:15.459538Z",
     "iopub.status.busy": "2024-09-12T12:06:15.459260Z",
     "iopub.status.idle": "2024-09-12T12:06:15.466462Z",
     "shell.execute_reply": "2024-09-12T12:06:15.465796Z"
    }
   },
   "outputs": [
    {
     "data": {
      "text/plain": [
       "[BasisSimpleElectron(dof: 0, nbas: 2, qn: [[0], [1]]),\n",
       " BasisSHO(dof: (0, 0), x0: 0.0, omega: 0.0004852952677876329, nbas: 4),\n",
       " BasisSHO(dof: (0, 1), x0: 0.0, omega: 0.007087607302666907, nbas: 4),\n",
       " BasisSimpleElectron(dof: 1, nbas: 2, qn: [[0], [1]]),\n",
       " BasisSHO(dof: (1, 0), x0: 0.0, omega: 0.0004852952677876329, nbas: 4),\n",
       " BasisSHO(dof: (1, 1), x0: 0.0, omega: 0.007087607302666907, nbas: 4),\n",
       " BasisSimpleElectron(dof: 2, nbas: 2, qn: [[0], [1]]),\n",
       " BasisSHO(dof: (2, 0), x0: 0.0, omega: 0.0004852952677876329, nbas: 4),\n",
       " BasisSHO(dof: (2, 1), x0: 0.0, omega: 0.007087607302666907, nbas: 4)]"
      ]
     },
     "execution_count": 2,
     "metadata": {},
     "output_type": "execute_result"
    }
   ],
   "source": [
    "holstein_model.basis"
   ]
  },
  {
   "cell_type": "code",
   "execution_count": 3,
   "id": "f9e48f60-8a7e-4c02-8424-11fd9740d0b4",
   "metadata": {
    "execution": {
     "iopub.execute_input": "2024-09-12T12:06:15.468770Z",
     "iopub.status.busy": "2024-09-12T12:06:15.468572Z",
     "iopub.status.idle": "2024-09-12T12:06:15.474557Z",
     "shell.execute_reply": "2024-09-12T12:06:15.473988Z"
    }
   },
   "outputs": [
    {
     "data": {
      "text/plain": [
       "[Op('a^\\\\dagger a', [0, 0], 0.10016074648883302, [[1], [-1]]),\n",
       " Op('a^\\\\dagger a', [0, 1], -0.003674932217565499, [[1], [-1]]),\n",
       " Op('a^\\\\dagger a', [0, 2], -0.007349864435130998, [[1], [-1]]),\n",
       " Op('a^\\\\dagger a', [1, 0], -0.003674932217565499, [[1], [-1]]),\n",
       " Op('a^\\\\dagger a', [1, 1], 0.10016074648883302, [[1], [-1]]),\n",
       " Op('a^\\\\dagger a', [1, 2], -0.011024796652696497, [[1], [-1]]),\n",
       " Op('a^\\\\dagger a', [2, 0], -0.007349864435130998, [[1], [-1]]),\n",
       " Op('a^\\\\dagger a', [2, 1], -0.011024796652696497, [[1], [-1]]),\n",
       " Op('a^\\\\dagger a', [2, 2], 0.10016074648883302, [[1], [-1]]),\n",
       " Op('p^2', [(0, 0)], 0.5),\n",
       " Op('x^2', [(0, 0)], 1.1775574846853516e-07),\n",
       " Op('p^2', [(0, 1)], 0.5),\n",
       " Op('x^2', [(0, 1)], 2.5117088638408635e-05),\n",
       " Op('p^2', [(1, 0)], 0.5),\n",
       " Op('x^2', [(1, 0)], 1.1775574846853516e-07),\n",
       " Op('p^2', [(1, 1)], 0.5),\n",
       " Op('x^2', [(1, 1)], 2.5117088638408635e-05),\n",
       " Op('p^2', [(2, 0)], 0.5),\n",
       " Op('x^2', [(2, 0)], 1.1775574846853516e-07),\n",
       " Op('p^2', [(2, 1)], 0.5),\n",
       " Op('x^2', [(2, 1)], 2.5117088638408635e-05),\n",
       " Op('a^\\\\dagger a x', [0, 0, (0, 0)], -7.097609983192488e-06, [[1], [-1], [0]]),\n",
       " Op('a^\\\\dagger a x', [0, 0, (0, 1)], -0.00044069941383179025, [[1], [-1], [0]]),\n",
       " Op('a^\\\\dagger a x', [1, 1, (1, 0)], -7.097609983192488e-06, [[1], [-1], [0]]),\n",
       " Op('a^\\\\dagger a x', [1, 1, (1, 1)], -0.00044069941383179025, [[1], [-1], [0]]),\n",
       " Op('a^\\\\dagger a x', [2, 2, (2, 0)], -7.097609983192488e-06, [[1], [-1], [0]]),\n",
       " Op('a^\\\\dagger a x', [2, 2, (2, 1)], -0.00044069941383179025, [[1], [-1], [0]])]"
      ]
     },
     "execution_count": 3,
     "metadata": {},
     "output_type": "execute_result"
    }
   ],
   "source": [
    "holstein_model.ham_terms"
   ]
  },
  {
   "cell_type": "markdown",
   "id": "0a280ed3-79f7-4c08-adc3-e28bde549486",
   "metadata": {},
   "source": [
    "## Compressing MPS\n",
    "Firstly construct a random MPS and the Hamiltonian MPO"
   ]
  },
  {
   "cell_type": "code",
   "execution_count": 4,
   "id": "e42487a2-bc67-4564-b6c7-e1e5c4986c7e",
   "metadata": {
    "execution": {
     "iopub.execute_input": "2024-09-12T12:06:15.477232Z",
     "iopub.status.busy": "2024-09-12T12:06:15.476852Z",
     "iopub.status.idle": "2024-09-12T12:06:15.479760Z",
     "shell.execute_reply": "2024-09-12T12:06:15.479132Z"
    }
   },
   "outputs": [],
   "source": [
    "from renormalizer import Mps, Mpo"
   ]
  },
  {
   "cell_type": "code",
   "execution_count": 5,
   "id": "4b2494e0-5998-4ef4-977e-df809b9ba287",
   "metadata": {
    "execution": {
     "iopub.execute_input": "2024-09-12T12:06:15.482180Z",
     "iopub.status.busy": "2024-09-12T12:06:15.481827Z",
     "iopub.status.idle": "2024-09-12T12:06:15.492956Z",
     "shell.execute_reply": "2024-09-12T12:06:15.492240Z"
    }
   },
   "outputs": [
    {
     "data": {
      "text/plain": [
       "[1, 2, 5, 5, 5, 5, 5, 5, 5, 1]"
      ]
     },
     "execution_count": 5,
     "metadata": {},
     "output_type": "execute_result"
    }
   ],
   "source": [
    "mps = Mps.random(holstein_model, qntot=1, m_max=5)\n",
    "mps.bond_dims"
   ]
  },
  {
   "cell_type": "code",
   "execution_count": 6,
   "id": "34dfbdac-51eb-43de-ba7c-312dfee8a1bf",
   "metadata": {
    "execution": {
     "iopub.execute_input": "2024-09-12T12:06:15.497654Z",
     "iopub.status.busy": "2024-09-12T12:06:15.496278Z",
     "iopub.status.idle": "2024-09-12T12:06:15.527422Z",
     "shell.execute_reply": "2024-09-12T12:06:15.526775Z"
    }
   },
   "outputs": [
    {
     "name": "stderr",
     "output_type": "stream",
     "text": [
      "2024-09-12 12:06:15,501[DEBUG] # of operator terms: 27\n"
     ]
    },
    {
     "name": "stderr",
     "output_type": "stream",
     "text": [
      "2024-09-12 12:06:15,503[DEBUG] Input operator terms: 27\n"
     ]
    },
    {
     "name": "stderr",
     "output_type": "stream",
     "text": [
      "2024-09-12 12:06:15,506[DEBUG] After combination of the same terms: 27\n"
     ]
    },
    {
     "name": "stderr",
     "output_type": "stream",
     "text": [
      "2024-09-12 12:06:15,508[DEBUG] symbolic mpo algorithm: qr\n"
     ]
    },
    {
     "data": {
      "text/plain": [
       "[1, 4, 5, 4, 5, 5, 4, 3, 3, 1]"
      ]
     },
     "execution_count": 6,
     "metadata": {},
     "output_type": "execute_result"
    }
   ],
   "source": [
    "mpo = Mpo(holstein_model)\n",
    "mpo.bond_dims"
   ]
  },
  {
   "cell_type": "markdown",
   "id": "7895b7c9-3486-4696-b0e5-a7fd3c786eb0",
   "metadata": {},
   "source": [
    "After applying the MPO on the MPS, the resulting MPS has a larger bond dimension. More specifically, the bond dimension is the product of the corresponding bond dimension of MPS and MPO"
   ]
  },
  {
   "cell_type": "code",
   "execution_count": 7,
   "id": "25cd899b-259e-471e-b052-778ef25e82e3",
   "metadata": {
    "execution": {
     "iopub.execute_input": "2024-09-12T12:06:15.532217Z",
     "iopub.status.busy": "2024-09-12T12:06:15.530971Z",
     "iopub.status.idle": "2024-09-12T12:06:15.541071Z",
     "shell.execute_reply": "2024-09-12T12:06:15.540441Z"
    }
   },
   "outputs": [
    {
     "data": {
      "text/plain": [
       "[1, 8, 25, 20, 25, 25, 20, 15, 15, 1]"
      ]
     },
     "execution_count": 7,
     "metadata": {},
     "output_type": "execute_result"
    }
   ],
   "source": [
    "mps2 = mpo @ mps\n",
    "mps2.bond_dims"
   ]
  },
  {
   "cell_type": "code",
   "execution_count": 8,
   "id": "463bec71-41cc-48ec-9a34-42dbe43d811b",
   "metadata": {
    "execution": {
     "iopub.execute_input": "2024-09-12T12:06:15.545643Z",
     "iopub.status.busy": "2024-09-12T12:06:15.544432Z",
     "iopub.status.idle": "2024-09-12T12:06:15.552335Z",
     "shell.execute_reply": "2024-09-12T12:06:15.551686Z"
    }
   },
   "outputs": [
    {
     "data": {
      "text/plain": [
       "array([ 1,  8, 25, 20, 25, 25, 20, 15, 15,  1])"
      ]
     },
     "execution_count": 8,
     "metadata": {},
     "output_type": "execute_result"
    }
   ],
   "source": [
    "import numpy as np\n",
    "np.array(mps.bond_dims) * np.array(mpo.bond_dims)  # the same as the bond dimension of `mps2`"
   ]
  },
  {
   "cell_type": "markdown",
   "id": "48bacff0-1e4b-4aea-a0cc-fedd09f62e3b",
   "metadata": {},
   "source": [
    "We then try to compress the MPS. We first make a copy for future reference since the compress is in place"
   ]
  },
  {
   "cell_type": "code",
   "execution_count": 9,
   "id": "dfc867cf-6362-44f0-833f-ea554db867cb",
   "metadata": {
    "execution": {
     "iopub.execute_input": "2024-09-12T12:06:15.556956Z",
     "iopub.status.busy": "2024-09-12T12:06:15.555708Z",
     "iopub.status.idle": "2024-09-12T12:06:15.561856Z",
     "shell.execute_reply": "2024-09-12T12:06:15.561198Z"
    }
   },
   "outputs": [],
   "source": [
    "mps3 = mps2.copy()"
   ]
  },
  {
   "cell_type": "markdown",
   "id": "2e572f67-21f0-4256-b527-eb4433ee23a7",
   "metadata": {},
   "source": [
    "Then compress `mps2` by SVD truncation to a fixed bond dimension of $M=5$. Note that as the product of an MPO and an MPS, `mps2` is not canonicalised, so it has to be canonicalised before SVD compression.\n",
    "\n",
    "After the compression, the size of the matrices in `mps2` is greatly reduced."
   ]
  },
  {
   "cell_type": "code",
   "execution_count": 10,
   "id": "f251628c-ad3f-4d12-907d-8036df48d65f",
   "metadata": {
    "execution": {
     "iopub.execute_input": "2024-09-12T12:06:15.566862Z",
     "iopub.status.busy": "2024-09-12T12:06:15.565619Z",
     "iopub.status.idle": "2024-09-12T12:06:15.587537Z",
     "shell.execute_reply": "2024-09-12T12:06:15.586813Z"
    }
   },
   "outputs": [
    {
     "name": "stderr",
     "output_type": "stream",
     "text": [
      "2024-09-12 12:06:15,579[DEBUG] size before/after compress: 47.2KiB/4.2KiB, ratio: 11.177777777777777\n"
     ]
    },
    {
     "data": {
      "text/plain": [
       "[1, 2, 5, 5, 5, 5, 5, 5, 4, 1]"
      ]
     },
     "execution_count": 10,
     "metadata": {},
     "output_type": "execute_result"
    }
   ],
   "source": [
    "m_trunc = 5\n",
    "mps3.canonicalise().compress(m_trunc)\n",
    "mps3.bond_dims"
   ]
  },
  {
   "cell_type": "markdown",
   "id": "4d0852f0-c31c-4917-903d-3ec01324f837",
   "metadata": {},
   "source": [
    "We can see that the information loss, measured by the difference of energy expectations, is relatively small."
   ]
  },
  {
   "cell_type": "code",
   "execution_count": 11,
   "id": "b4e07a29-a29a-430e-8796-7f1c7f60596b",
   "metadata": {
    "execution": {
     "iopub.execute_input": "2024-09-12T12:06:15.592736Z",
     "iopub.status.busy": "2024-09-12T12:06:15.591433Z",
     "iopub.status.idle": "2024-09-12T12:06:15.606303Z",
     "shell.execute_reply": "2024-09-12T12:06:15.605571Z"
    }
   },
   "outputs": [
    {
     "data": {
      "text/plain": [
       "(0.0031058187888397598, 0.003148758678336175, 0.013637084922336801)"
      ]
     },
     "execution_count": 11,
     "metadata": {},
     "output_type": "execute_result"
    }
   ],
   "source": [
    "e1 = mps3.expectation(mpo)\n",
    "e2 = mps2.expectation(mpo)\n",
    "e1, e2, abs((e1 - e2) / e2)"
   ]
  },
  {
   "cell_type": "markdown",
   "id": "109d0adb-1e37-47e2-9684-2c710a069b4a",
   "metadata": {},
   "source": [
    "> As a result of the random generation of the MPS, the compress accuracy is not very impressive. Much higher efficiency can be expected for the real wavefunction of quantum systems."
   ]
  },
  {
   "cell_type": "markdown",
   "id": "bf4d3ebe-2300-4bf1-9232-2c42fd2cbacd",
   "metadata": {},
   "source": [
    "## Compress Configuration\n",
    "It is sometimes desirable to perform truncation based on the magnitude of the singular values. Also, in production level calculations, MPSs are frequently compressed according to a fixed strategy.\n",
    "We can set the `compress_config` attribute for MPS to control the compression behavior"
   ]
  },
  {
   "cell_type": "code",
   "execution_count": 12,
   "id": "978f8a58-7ed6-4087-953b-26929d485b63",
   "metadata": {
    "execution": {
     "iopub.execute_input": "2024-09-12T12:06:15.611490Z",
     "iopub.status.busy": "2024-09-12T12:06:15.610241Z",
     "iopub.status.idle": "2024-09-12T12:06:15.615261Z",
     "shell.execute_reply": "2024-09-12T12:06:15.614634Z"
    }
   },
   "outputs": [],
   "source": [
    "from renormalizer.utils import CompressConfig, CompressCriteria"
   ]
  },
  {
   "cell_type": "code",
   "execution_count": 13,
   "id": "11f4780c-ac99-48b9-a23c-a557baecef0a",
   "metadata": {
    "execution": {
     "iopub.execute_input": "2024-09-12T12:06:15.619798Z",
     "iopub.status.busy": "2024-09-12T12:06:15.618574Z",
     "iopub.status.idle": "2024-09-12T12:06:15.625066Z",
     "shell.execute_reply": "2024-09-12T12:06:15.624440Z"
    }
   },
   "outputs": [],
   "source": [
    "mps3 = mps2.copy()\n",
    "mps3.compress_config = CompressConfig(CompressCriteria.threshold, threshold=1e-5)"
   ]
  },
  {
   "cell_type": "markdown",
   "id": "9d968790-43e8-4929-8634-72b520510f00",
   "metadata": {},
   "source": [
    "Here the compress criteria is set to the singular value threshold, which is set to 1e-5.\n",
    "\n",
    "`CompressCriteria` is an `Enum` class for all possible compression strategies. Currently there're three different strategies."
   ]
  },
  {
   "cell_type": "code",
   "execution_count": 14,
   "id": "8fd44580-df1a-4eef-b295-197e68e0ddf6",
   "metadata": {
    "execution": {
     "iopub.execute_input": "2024-09-12T12:06:15.629755Z",
     "iopub.status.busy": "2024-09-12T12:06:15.628532Z",
     "iopub.status.idle": "2024-09-12T12:06:15.636363Z",
     "shell.execute_reply": "2024-09-12T12:06:15.635713Z"
    }
   },
   "outputs": [
    {
     "data": {
      "text/plain": [
       "['both', 'fixed', 'threshold']"
      ]
     },
     "execution_count": 14,
     "metadata": {},
     "output_type": "execute_result"
    }
   ],
   "source": [
    "[s for s in dir(CompressCriteria) if not s.startswith(\"__\")]"
   ]
  },
  {
   "cell_type": "markdown",
   "id": "3bd86357-1d07-4905-ba77-9abe688809ff",
   "metadata": {},
   "source": [
    "> Using `CompressCriteria` might seem to be a overkill compared to an implementation using simple strings. \n",
    "However, when it comes to time evolution configurations, since there're a lot of different algorithms and some of them have rather long names,\n",
    "the `Enum` class can help manage the different algorithms. So here the compression configuration uses the same implementation. This is also for forward compatibility.\n",
    "\n",
    "We next compress `mps3` using the compress configuration associated with the `mps3` object. $10^{-5}$ is a relatively tight threshold, so the bond dimension is higher than 5."
   ]
  },
  {
   "cell_type": "code",
   "execution_count": 15,
   "id": "a1705a7c-c236-4ef0-9b9c-c14b434e563e",
   "metadata": {
    "execution": {
     "iopub.execute_input": "2024-09-12T12:06:15.641010Z",
     "iopub.status.busy": "2024-09-12T12:06:15.639778Z",
     "iopub.status.idle": "2024-09-12T12:06:15.659763Z",
     "shell.execute_reply": "2024-09-12T12:06:15.659123Z"
    }
   },
   "outputs": [
    {
     "name": "stderr",
     "output_type": "stream",
     "text": [
      "2024-09-12 12:06:15,653[DEBUG] size before/after compress: 47.2KiB/26.5KiB, ratio: 1.7784325279905715\n"
     ]
    },
    {
     "data": {
      "text/plain": [
       "[1, 2, 8, 15, 17, 18, 11, 8, 4, 1]"
      ]
     },
     "execution_count": 15,
     "metadata": {},
     "output_type": "execute_result"
    }
   ],
   "source": [
    "mps3.canonicalise().compress()\n",
    "mps3.bond_dims"
   ]
  },
  {
   "cell_type": "markdown",
   "id": "beaf8b25-65da-4498-b4ef-35c92dfdc720",
   "metadata": {},
   "source": [
    "We can expect that the accuracy is also higher"
   ]
  },
  {
   "cell_type": "code",
   "execution_count": 16,
   "id": "bea28667-b788-40c3-8d02-eaf38102ae45",
   "metadata": {
    "execution": {
     "iopub.execute_input": "2024-09-12T12:06:15.664549Z",
     "iopub.status.busy": "2024-09-12T12:06:15.663311Z",
     "iopub.status.idle": "2024-09-12T12:06:15.676914Z",
     "shell.execute_reply": "2024-09-12T12:06:15.676273Z"
    }
   },
   "outputs": [
    {
     "data": {
      "text/plain": [
       "(0.0031487586783361704, 0.003148758678336175, 1.5150381614690706e-15)"
      ]
     },
     "execution_count": 16,
     "metadata": {},
     "output_type": "execute_result"
    }
   ],
   "source": [
    "e1 = mps3.expectation(mpo)\n",
    "e2 = mps2.expectation(mpo)\n",
    "e1, e2, abs((e1 - e2) / e2)"
   ]
  }
 ],
 "metadata": {
  "kernelspec": {
   "display_name": "Python 3 (ipykernel)",
   "language": "python",
   "name": "python3"
  },
  "language_info": {
   "codemirror_mode": {
    "name": "ipython",
    "version": 3
   },
   "file_extension": ".py",
   "mimetype": "text/x-python",
   "name": "python",
   "nbconvert_exporter": "python",
   "pygments_lexer": "ipython3",
   "version": "3.8.18"
  }
 },
 "nbformat": 4,
 "nbformat_minor": 5
}
