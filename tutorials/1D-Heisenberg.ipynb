{
 "cells": [
  {
   "cell_type": "markdown",
   "metadata": {},
   "source": [
    "# Ground state of the Heisenberg model"
   ]
  },
  {
   "cell_type": "markdown",
   "metadata": {},
   "source": [
    "## Overview"
   ]
  },
  {
   "cell_type": "markdown",
   "metadata": {},
   "source": [
    "This notebook will give an example how to use Renormalizer to calculate the ground state energy of the open boundary spin 1/2 1-D Heisenberg model.\n",
    "\n",
    "$$\n",
    "H = J \\sum_i [S_i^z S_{i+1}^z + \\frac{1}{2}(S_i^+ S_{i+1}^- + S_i^- S_{i+1}^+)]\n",
    "$$\n",
    "\n",
    "Exact result via Bethe Anstatz:\n",
    "\n",
    "|$L$ |      $E/J$|\n",
    "|----|-----------|\n",
    "|16  |-6.9117371455749|\n",
    "|24  |-10.4537857604096|\n",
    "|32  |-13.9973156182243|\n",
    "|48  |-21.0859563143863|\n",
    "|64  |-28.1754248597421|\n"
   ]
  },
  {
   "cell_type": "markdown",
   "metadata": {},
   "source": [
    "## Setup"
   ]
  },
  {
   "cell_type": "code",
   "execution_count": 1,
   "metadata": {
    "execution": {
     "iopub.execute_input": "2024-09-12T12:06:04.773278Z",
     "iopub.status.busy": "2024-09-12T12:06:04.773073Z",
     "iopub.status.idle": "2024-09-12T12:06:05.890550Z",
     "shell.execute_reply": "2024-09-12T12:06:05.889769Z"
    }
   },
   "outputs": [
    {
     "name": "stderr",
     "output_type": "stream",
     "text": [
      "2024-09-12 12:06:05,791[INFO] Use NumPy as backend\n"
     ]
    },
    {
     "name": "stderr",
     "output_type": "stream",
     "text": [
      "2024-09-12 12:06:05,792[INFO] numpy random seed is 9012\n"
     ]
    },
    {
     "name": "stderr",
     "output_type": "stream",
     "text": [
      "2024-09-12 12:06:05,793[INFO] random seed is 1092\n"
     ]
    },
    {
     "name": "stderr",
     "output_type": "stream",
     "text": [
      "2024-09-12 12:06:05,803[INFO] Git Commit Hash: befa1b6905ceb62fec5b1d711b893eaee55eea78\n"
     ]
    },
    {
     "name": "stderr",
     "output_type": "stream",
     "text": [
      "2024-09-12 12:06:05,804[INFO] use 64 bits\n"
     ]
    }
   ],
   "source": [
    "from renormalizer import Model, Op, BasisHalfSpin,  Mps, Mpo, optimize_mps"
   ]
  },
  {
   "cell_type": "markdown",
   "metadata": {},
   "source": [
    "## Define the Model\n",
    "In Renormalizer, models are defined by the Hamiltonian terms and the a list of basis sets. The basis also defines the ordering in DMRG.\n",
    "\n",
    "The spin operators can be represented by Pauli operators\n",
    "$$\n",
    "S^+ = \\sigma^+ \n",
    "$$\n",
    "$$\n",
    "S^- = \\sigma^- \n",
    "$$\n",
    "$$\n",
    "S^{\\{x,y,z\\}} = \\frac{1}{2} \\sigma^{\\{x,y,z\\}}\n",
    "$$"
   ]
  },
  {
   "cell_type": "code",
   "execution_count": 2,
   "metadata": {
    "execution": {
     "iopub.execute_input": "2024-09-12T12:06:05.893780Z",
     "iopub.status.busy": "2024-09-12T12:06:05.893492Z",
     "iopub.status.idle": "2024-09-12T12:06:05.934050Z",
     "shell.execute_reply": "2024-09-12T12:06:05.933379Z"
    }
   },
   "outputs": [
    {
     "name": "stderr",
     "output_type": "stream",
     "text": [
      "2024-09-12 12:06:05,903[DEBUG] # of operator terms: 93\n"
     ]
    },
    {
     "name": "stderr",
     "output_type": "stream",
     "text": [
      "2024-09-12 12:06:05,904[DEBUG] Input operator terms: 93\n"
     ]
    },
    {
     "name": "stderr",
     "output_type": "stream",
     "text": [
      "2024-09-12 12:06:05,906[DEBUG] After combination of the same terms: 93\n"
     ]
    },
    {
     "name": "stderr",
     "output_type": "stream",
     "text": [
      "2024-09-12 12:06:05,906[DEBUG] symbolic mpo algorithm: qr\n"
     ]
    },
    {
     "name": "stdout",
     "output_type": "stream",
     "text": [
      "mpo_bond_dims:[1, 4, 5, 5, 5, 5, 5, 5, 5, 5, 5, 5, 5, 5, 5, 5, 5, 5, 5, 5, 5, 5, 5, 5, 5, 5, 5, 5, 5, 5, 5, 4, 1]\n"
     ]
    }
   ],
   "source": [
    "# define the # of spins\n",
    "nspin = 32\n",
    "\n",
    "# define the model\n",
    "\n",
    "ham_terms = []\n",
    "for ispin in range(nspin-1):\n",
    "    op1 = Op(\"sigma_z sigma_z\", [ispin, ispin+1], 1.0/4)\n",
    "    op2 = Op(\"sigma_+ sigma_-\", [ispin, ispin+1], 1.0/2)\n",
    "    op3 = Op(\"sigma_- sigma_+\", [ispin, ispin+1], 1.0/2)\n",
    "    ham_terms.extend([op1, op2, op3])\n",
    "\n",
    "# set the spin order and local basis\n",
    "basis = [BasisHalfSpin(i) for i in range(nspin)]\n",
    "# construct Hamiltonian MPO\n",
    "model = Model(basis, ham_terms)\n",
    "mpo = Mpo(model)\n",
    "print(f\"mpo_bond_dims:{mpo.bond_dims}\")"
   ]
  },
  {
   "cell_type": "markdown",
   "metadata": {},
   "source": [
    "## DMRG Sweeps"
   ]
  },
  {
   "cell_type": "code",
   "execution_count": 3,
   "metadata": {
    "execution": {
     "iopub.execute_input": "2024-09-12T12:06:05.936830Z",
     "iopub.status.busy": "2024-09-12T12:06:05.936420Z",
     "iopub.status.idle": "2024-09-12T12:06:12.466962Z",
     "shell.execute_reply": "2024-09-12T12:06:12.466293Z"
    }
   },
   "outputs": [
    {
     "name": "stderr",
     "output_type": "stream",
     "text": [
      "2024-09-12 12:06:05,976[INFO] optimization method: 2site\n"
     ]
    },
    {
     "name": "stderr",
     "output_type": "stream",
     "text": [
      "2024-09-12 12:06:05,977[INFO] e_rtol: 1e-06\n"
     ]
    },
    {
     "name": "stderr",
     "output_type": "stream",
     "text": [
      "2024-09-12 12:06:05,978[INFO] e_atol: 1e-08\n"
     ]
    },
    {
     "name": "stderr",
     "output_type": "stream",
     "text": [
      "2024-09-12 12:06:05,979[INFO] procedure: [[30, 0.2], [30, 0], [30, 0], [30, 0], [30, 0]]\n"
     ]
    },
    {
     "name": "stderr",
     "output_type": "stream",
     "text": [
      "2024-09-12 12:06:06,011[DEBUG] isweep: 0\n"
     ]
    },
    {
     "name": "stderr",
     "output_type": "stream",
     "text": [
      "2024-09-12 12:06:06,013[DEBUG] compress config in current loop: 30, percent: 0.2\n"
     ]
    },
    {
     "name": "stderr",
     "output_type": "stream",
     "text": [
      "2024-09-12 12:06:06,014[DEBUG] mps current size: 329.7KiB, Matrix product bond dim:[1, 2, 4, 8, 16, 30, 30, 30, 30, 30, 30, 30, 30, 30, 30, 30, 30, 30, 30, 30, 30, 30, 30, 30, 30, 30, 30, 30, 16, 8, 4, 2, 1]\n"
     ]
    },
    {
     "name": "stderr",
     "output_type": "stream",
     "text": [
      "2024-09-12 12:06:06,015[DEBUG] optimize site: [0, 1]\n"
     ]
    },
    {
     "name": "stderr",
     "output_type": "stream",
     "text": [
      "2024-09-12 12:06:06,016[DEBUG] use direct eigensolver\n"
     ]
    },
    {
     "name": "stderr",
     "output_type": "stream",
     "text": [
      "2024-09-12 12:06:06,019[DEBUG] energy: -0.9279990226898324\n"
     ]
    },
    {
     "name": "stderr",
     "output_type": "stream",
     "text": [
      "2024-09-12 12:06:06,021[DEBUG] optimize site: [1, 2]\n"
     ]
    },
    {
     "name": "stderr",
     "output_type": "stream",
     "text": [
      "2024-09-12 12:06:06,023[DEBUG] use direct eigensolver\n"
     ]
    },
    {
     "name": "stderr",
     "output_type": "stream",
     "text": [
      "2024-09-12 12:06:06,027[DEBUG] energy: -1.2840895734105349\n"
     ]
    },
    {
     "name": "stderr",
     "output_type": "stream",
     "text": [
      "2024-09-12 12:06:06,029[DEBUG] optimize site: [2, 3]\n"
     ]
    },
    {
     "name": "stderr",
     "output_type": "stream",
     "text": [
      "2024-09-12 12:06:06,031[DEBUG] use direct eigensolver\n"
     ]
    },
    {
     "name": "stderr",
     "output_type": "stream",
     "text": [
      "2024-09-12 12:06:06,054[DEBUG] energy: -2.0857452647499213\n"
     ]
    },
    {
     "name": "stderr",
     "output_type": "stream",
     "text": [
      "2024-09-12 12:06:06,057[DEBUG] optimize site: [3, 4]\n"
     ]
    },
    {
     "name": "stderr",
     "output_type": "stream",
     "text": [
      "2024-09-12 12:06:06,059[DEBUG] use direct eigensolver\n"
     ]
    },
    {
     "name": "stderr",
     "output_type": "stream",
     "text": [
      "2024-09-12 12:06:06,314[DEBUG] energy: -2.8158895272374123\n"
     ]
    },
    {
     "name": "stderr",
     "output_type": "stream",
     "text": [
      "2024-09-12 12:06:06,316[DEBUG] optimize site: [4, 5]\n"
     ]
    },
    {
     "name": "stderr",
     "output_type": "stream",
     "text": [
      "2024-09-12 12:06:06,373[DEBUG] use davidson, HC hops: 34\n"
     ]
    },
    {
     "name": "stderr",
     "output_type": "stream",
     "text": [
      "2024-09-12 12:06:06,374[DEBUG] energy: -3.293367315585802\n"
     ]
    },
    {
     "name": "stderr",
     "output_type": "stream",
     "text": [
      "2024-09-12 12:06:06,376[DEBUG] optimize site: [5, 6]\n"
     ]
    },
    {
     "name": "stderr",
     "output_type": "stream",
     "text": [
      "2024-09-12 12:06:06,454[DEBUG] use davidson, HC hops: 42\n"
     ]
    },
    {
     "name": "stderr",
     "output_type": "stream",
     "text": [
      "2024-09-12 12:06:06,455[DEBUG] energy: -3.744986750307196\n"
     ]
    },
    {
     "name": "stderr",
     "output_type": "stream",
     "text": [
      "2024-09-12 12:06:06,459[DEBUG] optimize site: [6, 7]\n"
     ]
    },
    {
     "name": "stderr",
     "output_type": "stream",
     "text": [
      "2024-09-12 12:06:06,541[DEBUG] use davidson, HC hops: 42\n"
     ]
    },
    {
     "name": "stderr",
     "output_type": "stream",
     "text": [
      "2024-09-12 12:06:06,543[DEBUG] energy: -4.176385575496495\n"
     ]
    },
    {
     "name": "stderr",
     "output_type": "stream",
     "text": [
      "2024-09-12 12:06:06,547[DEBUG] optimize site: [7, 8]\n"
     ]
    },
    {
     "name": "stderr",
     "output_type": "stream",
     "text": [
      "2024-09-12 12:06:06,631[DEBUG] use davidson, HC hops: 44\n"
     ]
    },
    {
     "name": "stderr",
     "output_type": "stream",
     "text": [
      "2024-09-12 12:06:06,633[DEBUG] energy: -4.583593477927389\n"
     ]
    },
    {
     "name": "stderr",
     "output_type": "stream",
     "text": [
      "2024-09-12 12:06:06,637[DEBUG] optimize site: [8, 9]\n"
     ]
    },
    {
     "name": "stderr",
     "output_type": "stream",
     "text": [
      "2024-09-12 12:06:06,739[DEBUG] use davidson, HC hops: 55\n"
     ]
    },
    {
     "name": "stderr",
     "output_type": "stream",
     "text": [
      "2024-09-12 12:06:06,740[DEBUG] energy: -4.968031845671201\n"
     ]
    },
    {
     "name": "stderr",
     "output_type": "stream",
     "text": [
      "2024-09-12 12:06:06,744[DEBUG] optimize site: [9, 10]\n"
     ]
    },
    {
     "name": "stderr",
     "output_type": "stream",
     "text": [
      "2024-09-12 12:06:06,869[DEBUG] use davidson, HC hops: 68\n"
     ]
    },
    {
     "name": "stderr",
     "output_type": "stream",
     "text": [
      "2024-09-12 12:06:06,871[DEBUG] energy: -5.414706360833982\n"
     ]
    },
    {
     "name": "stderr",
     "output_type": "stream",
     "text": [
      "2024-09-12 12:06:06,875[DEBUG] optimize site: [10, 11]\n"
     ]
    },
    {
     "name": "stderr",
     "output_type": "stream",
     "text": [
      "2024-09-12 12:06:07,014[DEBUG] use davidson, HC hops: 72\n"
     ]
    },
    {
     "name": "stderr",
     "output_type": "stream",
     "text": [
      "2024-09-12 12:06:07,016[DEBUG] energy: -5.85652975452047\n"
     ]
    },
    {
     "name": "stderr",
     "output_type": "stream",
     "text": [
      "2024-09-12 12:06:07,020[DEBUG] optimize site: [11, 12]\n"
     ]
    },
    {
     "name": "stderr",
     "output_type": "stream",
     "text": [
      "2024-09-12 12:06:07,200[DEBUG] use davidson, HC hops: 100\n"
     ]
    },
    {
     "name": "stderr",
     "output_type": "stream",
     "text": [
      "2024-09-12 12:06:07,201[DEBUG] energy: -6.279022467295801\n"
     ]
    },
    {
     "name": "stderr",
     "output_type": "stream",
     "text": [
      "2024-09-12 12:06:07,218[DEBUG] optimize site: [12, 13]\n"
     ]
    },
    {
     "name": "stderr",
     "output_type": "stream",
     "text": [
      "2024-09-12 12:06:07,380[DEBUG] use davidson, HC hops: 52\n"
     ]
    },
    {
     "name": "stderr",
     "output_type": "stream",
     "text": [
      "2024-09-12 12:06:07,381[DEBUG] energy: -6.857389012204752\n"
     ]
    },
    {
     "name": "stderr",
     "output_type": "stream",
     "text": [
      "2024-09-12 12:06:07,397[DEBUG] optimize site: [13, 14]\n"
     ]
    },
    {
     "name": "stderr",
     "output_type": "stream",
     "text": [
      "2024-09-12 12:06:07,599[DEBUG] use davidson, HC hops: 100\n"
     ]
    },
    {
     "name": "stderr",
     "output_type": "stream",
     "text": [
      "2024-09-12 12:06:07,600[DEBUG] energy: -7.114588022005769\n"
     ]
    },
    {
     "name": "stderr",
     "output_type": "stream",
     "text": [
      "2024-09-12 12:06:07,603[DEBUG] optimize site: [14, 15]\n"
     ]
    },
    {
     "name": "stderr",
     "output_type": "stream",
     "text": [
      "2024-09-12 12:06:07,656[DEBUG] use davidson, HC hops: 47\n"
     ]
    },
    {
     "name": "stderr",
     "output_type": "stream",
     "text": [
      "2024-09-12 12:06:07,657[DEBUG] energy: -7.6416317838354\n"
     ]
    },
    {
     "name": "stderr",
     "output_type": "stream",
     "text": [
      "2024-09-12 12:06:07,660[DEBUG] optimize site: [15, 16]\n"
     ]
    },
    {
     "name": "stderr",
     "output_type": "stream",
     "text": [
      "2024-09-12 12:06:07,749[DEBUG] use davidson, HC hops: 51\n"
     ]
    },
    {
     "name": "stderr",
     "output_type": "stream",
     "text": [
      "2024-09-12 12:06:07,751[DEBUG] energy: -8.118395338420024\n"
     ]
    },
    {
     "name": "stderr",
     "output_type": "stream",
     "text": [
      "2024-09-12 12:06:07,755[DEBUG] optimize site: [16, 17]\n"
     ]
    },
    {
     "name": "stderr",
     "output_type": "stream",
     "text": [
      "2024-09-12 12:06:07,861[DEBUG] use davidson, HC hops: 57\n"
     ]
    },
    {
     "name": "stderr",
     "output_type": "stream",
     "text": [
      "2024-09-12 12:06:07,862[DEBUG] energy: -8.579533430762833\n"
     ]
    },
    {
     "name": "stderr",
     "output_type": "stream",
     "text": [
      "2024-09-12 12:06:07,866[DEBUG] optimize site: [17, 18]\n"
     ]
    },
    {
     "name": "stderr",
     "output_type": "stream",
     "text": [
      "2024-09-12 12:06:07,987[DEBUG] use davidson, HC hops: 66\n"
     ]
    },
    {
     "name": "stderr",
     "output_type": "stream",
     "text": [
      "2024-09-12 12:06:07,988[DEBUG] energy: -8.983113190158452\n"
     ]
    },
    {
     "name": "stderr",
     "output_type": "stream",
     "text": [
      "2024-09-12 12:06:07,992[DEBUG] optimize site: [18, 19]\n"
     ]
    },
    {
     "name": "stderr",
     "output_type": "stream",
     "text": [
      "2024-09-12 12:06:08,110[DEBUG] use davidson, HC hops: 62\n"
     ]
    },
    {
     "name": "stderr",
     "output_type": "stream",
     "text": [
      "2024-09-12 12:06:08,111[DEBUG] energy: -9.422205404607647\n"
     ]
    },
    {
     "name": "stderr",
     "output_type": "stream",
     "text": [
      "2024-09-12 12:06:08,115[DEBUG] optimize site: [19, 20]\n"
     ]
    },
    {
     "name": "stderr",
     "output_type": "stream",
     "text": [
      "2024-09-12 12:06:08,233[DEBUG] use davidson, HC hops: 62\n"
     ]
    },
    {
     "name": "stderr",
     "output_type": "stream",
     "text": [
      "2024-09-12 12:06:08,235[DEBUG] energy: -9.903693680914373\n"
     ]
    },
    {
     "name": "stderr",
     "output_type": "stream",
     "text": [
      "2024-09-12 12:06:08,239[DEBUG] optimize site: [20, 21]\n"
     ]
    },
    {
     "name": "stderr",
     "output_type": "stream",
     "text": [
      "2024-09-12 12:06:08,390[DEBUG] use davidson, HC hops: 81\n"
     ]
    },
    {
     "name": "stderr",
     "output_type": "stream",
     "text": [
      "2024-09-12 12:06:08,392[DEBUG] energy: -10.398530611697955\n"
     ]
    },
    {
     "name": "stderr",
     "output_type": "stream",
     "text": [
      "2024-09-12 12:06:08,396[DEBUG] optimize site: [21, 22]\n"
     ]
    },
    {
     "name": "stderr",
     "output_type": "stream",
     "text": [
      "2024-09-12 12:06:08,537[DEBUG] use davidson, HC hops: 76\n"
     ]
    },
    {
     "name": "stderr",
     "output_type": "stream",
     "text": [
      "2024-09-12 12:06:08,538[DEBUG] energy: -10.834489434421666\n"
     ]
    },
    {
     "name": "stderr",
     "output_type": "stream",
     "text": [
      "2024-09-12 12:06:08,543[DEBUG] optimize site: [22, 23]\n"
     ]
    },
    {
     "name": "stderr",
     "output_type": "stream",
     "text": [
      "2024-09-12 12:06:08,655[DEBUG] use davidson, HC hops: 58\n"
     ]
    },
    {
     "name": "stderr",
     "output_type": "stream",
     "text": [
      "2024-09-12 12:06:08,656[DEBUG] energy: -11.415128707126774\n"
     ]
    },
    {
     "name": "stderr",
     "output_type": "stream",
     "text": [
      "2024-09-12 12:06:08,660[DEBUG] optimize site: [23, 24]\n"
     ]
    },
    {
     "name": "stderr",
     "output_type": "stream",
     "text": [
      "2024-09-12 12:06:08,758[DEBUG] use davidson, HC hops: 52\n"
     ]
    },
    {
     "name": "stderr",
     "output_type": "stream",
     "text": [
      "2024-09-12 12:06:08,759[DEBUG] energy: -12.122795879745023\n"
     ]
    },
    {
     "name": "stderr",
     "output_type": "stream",
     "text": [
      "2024-09-12 12:06:08,763[DEBUG] optimize site: [24, 25]\n"
     ]
    },
    {
     "name": "stderr",
     "output_type": "stream",
     "text": [
      "2024-09-12 12:06:08,892[DEBUG] use davidson, HC hops: 71\n"
     ]
    },
    {
     "name": "stderr",
     "output_type": "stream",
     "text": [
      "2024-09-12 12:06:08,893[DEBUG] energy: -12.812234874023462\n"
     ]
    },
    {
     "name": "stderr",
     "output_type": "stream",
     "text": [
      "2024-09-12 12:06:08,897[DEBUG] optimize site: [25, 26]\n"
     ]
    },
    {
     "name": "stderr",
     "output_type": "stream",
     "text": [
      "2024-09-12 12:06:09,011[DEBUG] use davidson, HC hops: 58\n"
     ]
    },
    {
     "name": "stderr",
     "output_type": "stream",
     "text": [
      "2024-09-12 12:06:09,012[DEBUG] energy: -13.774582804126624\n"
     ]
    },
    {
     "name": "stderr",
     "output_type": "stream",
     "text": [
      "2024-09-12 12:06:09,016[DEBUG] optimize site: [26, 27]\n"
     ]
    },
    {
     "name": "stderr",
     "output_type": "stream",
     "text": [
      "2024-09-12 12:06:09,099[DEBUG] use davidson, HC hops: 47\n"
     ]
    },
    {
     "name": "stderr",
     "output_type": "stream",
     "text": [
      "2024-09-12 12:06:09,101[DEBUG] energy: -13.99683265581305\n"
     ]
    },
    {
     "name": "stderr",
     "output_type": "stream",
     "text": [
      "2024-09-12 12:06:09,103[DEBUG] optimize site: [27, 28]\n"
     ]
    },
    {
     "name": "stderr",
     "output_type": "stream",
     "text": [
      "2024-09-12 12:06:09,107[DEBUG] use direct eigensolver\n"
     ]
    },
    {
     "name": "stderr",
     "output_type": "stream",
     "text": [
      "2024-09-12 12:06:09,367[DEBUG] energy: -13.996832655533971\n"
     ]
    },
    {
     "name": "stderr",
     "output_type": "stream",
     "text": [
      "2024-09-12 12:06:09,370[DEBUG] optimize site: [28, 29]\n"
     ]
    },
    {
     "name": "stderr",
     "output_type": "stream",
     "text": [
      "2024-09-12 12:06:09,377[DEBUG] use direct eigensolver\n"
     ]
    },
    {
     "name": "stderr",
     "output_type": "stream",
     "text": [
      "2024-09-12 12:06:09,454[DEBUG] energy: -13.99683265553399\n"
     ]
    },
    {
     "name": "stderr",
     "output_type": "stream",
     "text": [
      "2024-09-12 12:06:09,457[DEBUG] optimize site: [29, 30]\n"
     ]
    },
    {
     "name": "stderr",
     "output_type": "stream",
     "text": [
      "2024-09-12 12:06:09,460[DEBUG] use direct eigensolver\n"
     ]
    },
    {
     "name": "stderr",
     "output_type": "stream",
     "text": [
      "2024-09-12 12:06:09,469[DEBUG] energy: -13.996832655533986\n"
     ]
    },
    {
     "name": "stderr",
     "output_type": "stream",
     "text": [
      "2024-09-12 12:06:09,471[DEBUG] optimize site: [30, 31]\n"
     ]
    },
    {
     "name": "stderr",
     "output_type": "stream",
     "text": [
      "2024-09-12 12:06:09,473[DEBUG] use direct eigensolver\n"
     ]
    },
    {
     "name": "stderr",
     "output_type": "stream",
     "text": [
      "2024-09-12 12:06:09,477[DEBUG] energy: -13.99683265553398\n"
     ]
    },
    {
     "name": "stderr",
     "output_type": "stream",
     "text": [
      "2024-09-12 12:06:09,478[DEBUG] 1 sweeps are finished, lowest energy = -13.99683265581305\n"
     ]
    },
    {
     "name": "stderr",
     "output_type": "stream",
     "text": [
      "2024-09-12 12:06:09,480[DEBUG] isweep: 1\n"
     ]
    },
    {
     "name": "stderr",
     "output_type": "stream",
     "text": [
      "2024-09-12 12:06:09,481[DEBUG] compress config in current loop: 30, percent: 0\n"
     ]
    },
    {
     "name": "stderr",
     "output_type": "stream",
     "text": [
      "2024-09-12 12:06:09,483[DEBUG] mps current size: 343.7KiB, Matrix product bond dim:[1, 2, 4, 8, 16, 30, 30, 30, 30, 30, 30, 30, 30, 30, 30, 30, 30, 30, 30, 30, 30, 30, 30, 30, 30, 30, 30, 30, 30, 16, 8, 4, 1]\n"
     ]
    },
    {
     "name": "stderr",
     "output_type": "stream",
     "text": [
      "2024-09-12 12:06:09,484[DEBUG] optimize site: [30, 31]\n"
     ]
    },
    {
     "name": "stderr",
     "output_type": "stream",
     "text": [
      "2024-09-12 12:06:09,485[DEBUG] use direct eigensolver\n"
     ]
    },
    {
     "name": "stderr",
     "output_type": "stream",
     "text": [
      "2024-09-12 12:06:09,489[DEBUG] energy: -13.99683265553398\n"
     ]
    },
    {
     "name": "stderr",
     "output_type": "stream",
     "text": [
      "2024-09-12 12:06:09,491[DEBUG] optimize site: [29, 30]\n"
     ]
    },
    {
     "name": "stderr",
     "output_type": "stream",
     "text": [
      "2024-09-12 12:06:09,493[DEBUG] use direct eigensolver\n"
     ]
    },
    {
     "name": "stderr",
     "output_type": "stream",
     "text": [
      "2024-09-12 12:06:09,497[DEBUG] energy: -13.996832655533979\n"
     ]
    },
    {
     "name": "stderr",
     "output_type": "stream",
     "text": [
      "2024-09-12 12:06:09,499[DEBUG] optimize site: [28, 29]\n"
     ]
    },
    {
     "name": "stderr",
     "output_type": "stream",
     "text": [
      "2024-09-12 12:06:09,500[DEBUG] use direct eigensolver\n"
     ]
    },
    {
     "name": "stderr",
     "output_type": "stream",
     "text": [
      "2024-09-12 12:06:09,576[DEBUG] energy: -13.996832655533979\n"
     ]
    },
    {
     "name": "stderr",
     "output_type": "stream",
     "text": [
      "2024-09-12 12:06:09,579[DEBUG] optimize site: [27, 28]\n"
     ]
    },
    {
     "name": "stderr",
     "output_type": "stream",
     "text": [
      "2024-09-12 12:06:09,581[DEBUG] use direct eigensolver\n"
     ]
    },
    {
     "name": "stderr",
     "output_type": "stream",
     "text": [
      "2024-09-12 12:06:09,833[DEBUG] energy: -13.99683265553399\n"
     ]
    },
    {
     "name": "stderr",
     "output_type": "stream",
     "text": [
      "2024-09-12 12:06:09,835[DEBUG] optimize site: [26, 27]\n"
     ]
    },
    {
     "name": "stderr",
     "output_type": "stream",
     "text": [
      "2024-09-12 12:06:09,849[DEBUG] use davidson, HC hops: 4\n"
     ]
    },
    {
     "name": "stderr",
     "output_type": "stream",
     "text": [
      "2024-09-12 12:06:09,851[DEBUG] energy: -13.996832655813613\n"
     ]
    },
    {
     "name": "stderr",
     "output_type": "stream",
     "text": [
      "2024-09-12 12:06:09,855[DEBUG] optimize site: [25, 26]\n"
     ]
    },
    {
     "name": "stderr",
     "output_type": "stream",
     "text": [
      "2024-09-12 12:06:09,902[DEBUG] use davidson, HC hops: 22\n"
     ]
    },
    {
     "name": "stderr",
     "output_type": "stream",
     "text": [
      "2024-09-12 12:06:09,903[DEBUG] energy: -13.996844945038324\n"
     ]
    },
    {
     "name": "stderr",
     "output_type": "stream",
     "text": [
      "2024-09-12 12:06:09,908[DEBUG] optimize site: [24, 25]\n"
     ]
    },
    {
     "name": "stderr",
     "output_type": "stream",
     "text": [
      "2024-09-12 12:06:09,962[DEBUG] use davidson, HC hops: 28\n"
     ]
    },
    {
     "name": "stderr",
     "output_type": "stream",
     "text": [
      "2024-09-12 12:06:09,964[DEBUG] energy: -13.997067101658732\n"
     ]
    },
    {
     "name": "stderr",
     "output_type": "stream",
     "text": [
      "2024-09-12 12:06:09,968[DEBUG] optimize site: [23, 24]\n"
     ]
    },
    {
     "name": "stderr",
     "output_type": "stream",
     "text": [
      "2024-09-12 12:06:10,018[DEBUG] use davidson, HC hops: 25\n"
     ]
    },
    {
     "name": "stderr",
     "output_type": "stream",
     "text": [
      "2024-09-12 12:06:10,019[DEBUG] energy: -13.997101684717506\n"
     ]
    },
    {
     "name": "stderr",
     "output_type": "stream",
     "text": [
      "2024-09-12 12:06:10,023[DEBUG] optimize site: [22, 23]\n"
     ]
    },
    {
     "name": "stderr",
     "output_type": "stream",
     "text": [
      "2024-09-12 12:06:10,069[DEBUG] use davidson, HC hops: 23\n"
     ]
    },
    {
     "name": "stderr",
     "output_type": "stream",
     "text": [
      "2024-09-12 12:06:10,072[DEBUG] energy: -13.997106608213713\n"
     ]
    },
    {
     "name": "stderr",
     "output_type": "stream",
     "text": [
      "2024-09-12 12:06:10,077[DEBUG] optimize site: [21, 22]\n"
     ]
    },
    {
     "name": "stderr",
     "output_type": "stream",
     "text": [
      "2024-09-12 12:06:10,123[DEBUG] use davidson, HC hops: 23\n"
     ]
    },
    {
     "name": "stderr",
     "output_type": "stream",
     "text": [
      "2024-09-12 12:06:10,126[DEBUG] energy: -13.997113698271155\n"
     ]
    },
    {
     "name": "stderr",
     "output_type": "stream",
     "text": [
      "2024-09-12 12:06:10,131[DEBUG] optimize site: [20, 21]\n"
     ]
    },
    {
     "name": "stderr",
     "output_type": "stream",
     "text": [
      "2024-09-12 12:06:10,183[DEBUG] use davidson, HC hops: 26\n"
     ]
    },
    {
     "name": "stderr",
     "output_type": "stream",
     "text": [
      "2024-09-12 12:06:10,186[DEBUG] energy: -13.997162638323585\n"
     ]
    },
    {
     "name": "stderr",
     "output_type": "stream",
     "text": [
      "2024-09-12 12:06:10,191[DEBUG] optimize site: [19, 20]\n"
     ]
    },
    {
     "name": "stderr",
     "output_type": "stream",
     "text": [
      "2024-09-12 12:06:10,237[DEBUG] use davidson, HC hops: 23\n"
     ]
    },
    {
     "name": "stderr",
     "output_type": "stream",
     "text": [
      "2024-09-12 12:06:10,241[DEBUG] energy: -13.997170144965587\n"
     ]
    },
    {
     "name": "stderr",
     "output_type": "stream",
     "text": [
      "2024-09-12 12:06:10,246[DEBUG] optimize site: [18, 19]\n"
     ]
    },
    {
     "name": "stderr",
     "output_type": "stream",
     "text": [
      "2024-09-12 12:06:10,297[DEBUG] use davidson, HC hops: 26\n"
     ]
    },
    {
     "name": "stderr",
     "output_type": "stream",
     "text": [
      "2024-09-12 12:06:10,300[DEBUG] energy: -13.997199975427455\n"
     ]
    },
    {
     "name": "stderr",
     "output_type": "stream",
     "text": [
      "2024-09-12 12:06:10,305[DEBUG] optimize site: [17, 18]\n"
     ]
    },
    {
     "name": "stderr",
     "output_type": "stream",
     "text": [
      "2024-09-12 12:06:10,350[DEBUG] use davidson, HC hops: 22\n"
     ]
    },
    {
     "name": "stderr",
     "output_type": "stream",
     "text": [
      "2024-09-12 12:06:10,353[DEBUG] energy: -13.997204392621677\n"
     ]
    },
    {
     "name": "stderr",
     "output_type": "stream",
     "text": [
      "2024-09-12 12:06:10,358[DEBUG] optimize site: [16, 17]\n"
     ]
    },
    {
     "name": "stderr",
     "output_type": "stream",
     "text": [
      "2024-09-12 12:06:10,408[DEBUG] use davidson, HC hops: 25\n"
     ]
    },
    {
     "name": "stderr",
     "output_type": "stream",
     "text": [
      "2024-09-12 12:06:10,411[DEBUG] energy: -13.997225037523863\n"
     ]
    },
    {
     "name": "stderr",
     "output_type": "stream",
     "text": [
      "2024-09-12 12:06:10,416[DEBUG] optimize site: [15, 16]\n"
     ]
    },
    {
     "name": "stderr",
     "output_type": "stream",
     "text": [
      "2024-09-12 12:06:10,468[DEBUG] use davidson, HC hops: 26\n"
     ]
    },
    {
     "name": "stderr",
     "output_type": "stream",
     "text": [
      "2024-09-12 12:06:10,471[DEBUG] energy: -13.997284918121249\n"
     ]
    },
    {
     "name": "stderr",
     "output_type": "stream",
     "text": [
      "2024-09-12 12:06:10,476[DEBUG] optimize site: [14, 15]\n"
     ]
    },
    {
     "name": "stderr",
     "output_type": "stream",
     "text": [
      "2024-09-12 12:06:10,522[DEBUG] use davidson, HC hops: 22\n"
     ]
    },
    {
     "name": "stderr",
     "output_type": "stream",
     "text": [
      "2024-09-12 12:06:10,525[DEBUG] energy: -13.99729085997133\n"
     ]
    },
    {
     "name": "stderr",
     "output_type": "stream",
     "text": [
      "2024-09-12 12:06:10,530[DEBUG] optimize site: [13, 14]\n"
     ]
    },
    {
     "name": "stderr",
     "output_type": "stream",
     "text": [
      "2024-09-12 12:06:10,570[DEBUG] use davidson, HC hops: 20\n"
     ]
    },
    {
     "name": "stderr",
     "output_type": "stream",
     "text": [
      "2024-09-12 12:06:10,573[DEBUG] energy: -13.99729325765389\n"
     ]
    },
    {
     "name": "stderr",
     "output_type": "stream",
     "text": [
      "2024-09-12 12:06:10,578[DEBUG] optimize site: [12, 13]\n"
     ]
    },
    {
     "name": "stderr",
     "output_type": "stream",
     "text": [
      "2024-09-12 12:06:10,624[DEBUG] use davidson, HC hops: 23\n"
     ]
    },
    {
     "name": "stderr",
     "output_type": "stream",
     "text": [
      "2024-09-12 12:06:10,627[DEBUG] energy: -13.997306225086763\n"
     ]
    },
    {
     "name": "stderr",
     "output_type": "stream",
     "text": [
      "2024-09-12 12:06:10,632[DEBUG] optimize site: [11, 12]\n"
     ]
    },
    {
     "name": "stderr",
     "output_type": "stream",
     "text": [
      "2024-09-12 12:06:10,675[DEBUG] use davidson, HC hops: 21\n"
     ]
    },
    {
     "name": "stderr",
     "output_type": "stream",
     "text": [
      "2024-09-12 12:06:10,678[DEBUG] energy: -13.997311145595702\n"
     ]
    },
    {
     "name": "stderr",
     "output_type": "stream",
     "text": [
      "2024-09-12 12:06:10,683[DEBUG] optimize site: [10, 11]\n"
     ]
    },
    {
     "name": "stderr",
     "output_type": "stream",
     "text": [
      "2024-09-12 12:06:10,723[DEBUG] use davidson, HC hops: 20\n"
     ]
    },
    {
     "name": "stderr",
     "output_type": "stream",
     "text": [
      "2024-09-12 12:06:10,725[DEBUG] energy: -13.997313132707575\n"
     ]
    },
    {
     "name": "stderr",
     "output_type": "stream",
     "text": [
      "2024-09-12 12:06:10,730[DEBUG] optimize site: [9, 10]\n"
     ]
    },
    {
     "name": "stderr",
     "output_type": "stream",
     "text": [
      "2024-09-12 12:06:10,765[DEBUG] use davidson, HC hops: 17\n"
     ]
    },
    {
     "name": "stderr",
     "output_type": "stream",
     "text": [
      "2024-09-12 12:06:10,768[DEBUG] energy: -13.997314428626446\n"
     ]
    },
    {
     "name": "stderr",
     "output_type": "stream",
     "text": [
      "2024-09-12 12:06:10,774[DEBUG] optimize site: [8, 9]\n"
     ]
    },
    {
     "name": "stderr",
     "output_type": "stream",
     "text": [
      "2024-09-12 12:06:10,800[DEBUG] use davidson, HC hops: 11\n"
     ]
    },
    {
     "name": "stderr",
     "output_type": "stream",
     "text": [
      "2024-09-12 12:06:10,803[DEBUG] energy: -13.997314715468786\n"
     ]
    },
    {
     "name": "stderr",
     "output_type": "stream",
     "text": [
      "2024-09-12 12:06:10,808[DEBUG] optimize site: [7, 8]\n"
     ]
    },
    {
     "name": "stderr",
     "output_type": "stream",
     "text": [
      "2024-09-12 12:06:10,826[DEBUG] use davidson, HC hops: 7\n"
     ]
    },
    {
     "name": "stderr",
     "output_type": "stream",
     "text": [
      "2024-09-12 12:06:10,829[DEBUG] energy: -13.997314712669898\n"
     ]
    },
    {
     "name": "stderr",
     "output_type": "stream",
     "text": [
      "2024-09-12 12:06:10,835[DEBUG] optimize site: [6, 7]\n"
     ]
    },
    {
     "name": "stderr",
     "output_type": "stream",
     "text": [
      "2024-09-12 12:06:10,864[DEBUG] use davidson, HC hops: 12\n"
     ]
    },
    {
     "name": "stderr",
     "output_type": "stream",
     "text": [
      "2024-09-12 12:06:10,866[DEBUG] energy: -13.997314999750145\n"
     ]
    },
    {
     "name": "stderr",
     "output_type": "stream",
     "text": [
      "2024-09-12 12:06:10,871[DEBUG] optimize site: [5, 6]\n"
     ]
    },
    {
     "name": "stderr",
     "output_type": "stream",
     "text": [
      "2024-09-12 12:06:10,889[DEBUG] use davidson, HC hops: 7\n"
     ]
    },
    {
     "name": "stderr",
     "output_type": "stream",
     "text": [
      "2024-09-12 12:06:10,892[DEBUG] energy: -13.997315003811568\n"
     ]
    },
    {
     "name": "stderr",
     "output_type": "stream",
     "text": [
      "2024-09-12 12:06:10,897[DEBUG] optimize site: [4, 5]\n"
     ]
    },
    {
     "name": "stderr",
     "output_type": "stream",
     "text": [
      "2024-09-12 12:06:10,908[DEBUG] use davidson, HC hops: 5\n"
     ]
    },
    {
     "name": "stderr",
     "output_type": "stream",
     "text": [
      "2024-09-12 12:06:10,911[DEBUG] energy: -13.997315004767888\n"
     ]
    },
    {
     "name": "stderr",
     "output_type": "stream",
     "text": [
      "2024-09-12 12:06:10,915[DEBUG] optimize site: [3, 4]\n"
     ]
    },
    {
     "name": "stderr",
     "output_type": "stream",
     "text": [
      "2024-09-12 12:06:10,918[DEBUG] use direct eigensolver\n"
     ]
    },
    {
     "name": "stderr",
     "output_type": "stream",
     "text": [
      "2024-09-12 12:06:11,186[DEBUG] energy: -13.997315004467207\n"
     ]
    },
    {
     "name": "stderr",
     "output_type": "stream",
     "text": [
      "2024-09-12 12:06:11,190[DEBUG] optimize site: [2, 3]\n"
     ]
    },
    {
     "name": "stderr",
     "output_type": "stream",
     "text": [
      "2024-09-12 12:06:11,197[DEBUG] use direct eigensolver\n"
     ]
    },
    {
     "name": "stderr",
     "output_type": "stream",
     "text": [
      "2024-09-12 12:06:11,275[DEBUG] energy: -13.997315004467204\n"
     ]
    },
    {
     "name": "stderr",
     "output_type": "stream",
     "text": [
      "2024-09-12 12:06:11,278[DEBUG] optimize site: [1, 2]\n"
     ]
    },
    {
     "name": "stderr",
     "output_type": "stream",
     "text": [
      "2024-09-12 12:06:11,280[DEBUG] use direct eigensolver\n"
     ]
    },
    {
     "name": "stderr",
     "output_type": "stream",
     "text": [
      "2024-09-12 12:06:11,288[DEBUG] energy: -13.9973150044672\n"
     ]
    },
    {
     "name": "stderr",
     "output_type": "stream",
     "text": [
      "2024-09-12 12:06:11,290[DEBUG] optimize site: [0, 1]\n"
     ]
    },
    {
     "name": "stderr",
     "output_type": "stream",
     "text": [
      "2024-09-12 12:06:11,293[DEBUG] use direct eigensolver\n"
     ]
    },
    {
     "name": "stderr",
     "output_type": "stream",
     "text": [
      "2024-09-12 12:06:11,302[DEBUG] energy: -13.9973150044672\n"
     ]
    },
    {
     "name": "stderr",
     "output_type": "stream",
     "text": [
      "2024-09-12 12:06:11,304[DEBUG] 2 sweeps are finished, lowest energy = -13.997315004767888\n"
     ]
    },
    {
     "name": "stderr",
     "output_type": "stream",
     "text": [
      "2024-09-12 12:06:11,306[DEBUG] isweep: 2\n"
     ]
    },
    {
     "name": "stderr",
     "output_type": "stream",
     "text": [
      "2024-09-12 12:06:11,308[DEBUG] compress config in current loop: 30, percent: 0\n"
     ]
    },
    {
     "name": "stderr",
     "output_type": "stream",
     "text": [
      "2024-09-12 12:06:11,310[DEBUG] mps current size: 343.7KiB, Matrix product bond dim:[1, 4, 8, 16, 30, 30, 30, 30, 30, 30, 30, 30, 30, 30, 30, 30, 30, 30, 30, 30, 30, 30, 30, 30, 30, 30, 30, 30, 16, 8, 4, 2, 1]\n"
     ]
    },
    {
     "name": "stderr",
     "output_type": "stream",
     "text": [
      "2024-09-12 12:06:11,312[DEBUG] optimize site: [0, 1]\n"
     ]
    },
    {
     "name": "stderr",
     "output_type": "stream",
     "text": [
      "2024-09-12 12:06:11,314[DEBUG] use direct eigensolver\n"
     ]
    },
    {
     "name": "stderr",
     "output_type": "stream",
     "text": [
      "2024-09-12 12:06:11,317[DEBUG] energy: -13.9973150044672\n"
     ]
    },
    {
     "name": "stderr",
     "output_type": "stream",
     "text": [
      "2024-09-12 12:06:11,319[DEBUG] optimize site: [1, 2]\n"
     ]
    },
    {
     "name": "stderr",
     "output_type": "stream",
     "text": [
      "2024-09-12 12:06:11,321[DEBUG] use direct eigensolver\n"
     ]
    },
    {
     "name": "stderr",
     "output_type": "stream",
     "text": [
      "2024-09-12 12:06:11,329[DEBUG] energy: -13.997315004467193\n"
     ]
    },
    {
     "name": "stderr",
     "output_type": "stream",
     "text": [
      "2024-09-12 12:06:11,331[DEBUG] optimize site: [2, 3]\n"
     ]
    },
    {
     "name": "stderr",
     "output_type": "stream",
     "text": [
      "2024-09-12 12:06:11,333[DEBUG] use direct eigensolver\n"
     ]
    },
    {
     "name": "stderr",
     "output_type": "stream",
     "text": [
      "2024-09-12 12:06:11,415[DEBUG] energy: -13.9973150044672\n"
     ]
    },
    {
     "name": "stderr",
     "output_type": "stream",
     "text": [
      "2024-09-12 12:06:11,418[DEBUG] optimize site: [3, 4]\n"
     ]
    },
    {
     "name": "stderr",
     "output_type": "stream",
     "text": [
      "2024-09-12 12:06:11,421[DEBUG] use direct eigensolver\n"
     ]
    },
    {
     "name": "stderr",
     "output_type": "stream",
     "text": [
      "2024-09-12 12:06:11,654[DEBUG] energy: -13.997315004467213\n"
     ]
    },
    {
     "name": "stderr",
     "output_type": "stream",
     "text": [
      "2024-09-12 12:06:11,658[DEBUG] optimize site: [4, 5]\n"
     ]
    },
    {
     "name": "stderr",
     "output_type": "stream",
     "text": [
      "2024-09-12 12:06:11,664[DEBUG] use davidson, HC hops: 4\n"
     ]
    },
    {
     "name": "stderr",
     "output_type": "stream",
     "text": [
      "2024-09-12 12:06:11,666[DEBUG] energy: -13.997315004767977\n"
     ]
    },
    {
     "name": "stderr",
     "output_type": "stream",
     "text": [
      "2024-09-12 12:06:11,671[DEBUG] optimize site: [5, 6]\n"
     ]
    },
    {
     "name": "stderr",
     "output_type": "stream",
     "text": [
      "2024-09-12 12:06:11,678[DEBUG] use davidson, HC hops: 4\n"
     ]
    },
    {
     "name": "stderr",
     "output_type": "stream",
     "text": [
      "2024-09-12 12:06:11,681[DEBUG] energy: -13.99731500466789\n"
     ]
    },
    {
     "name": "stderr",
     "output_type": "stream",
     "text": [
      "2024-09-12 12:06:11,685[DEBUG] optimize site: [6, 7]\n"
     ]
    },
    {
     "name": "stderr",
     "output_type": "stream",
     "text": [
      "2024-09-12 12:06:11,694[DEBUG] use davidson, HC hops: 6\n"
     ]
    },
    {
     "name": "stderr",
     "output_type": "stream",
     "text": [
      "2024-09-12 12:06:11,697[DEBUG] energy: -13.997315012470757\n"
     ]
    },
    {
     "name": "stderr",
     "output_type": "stream",
     "text": [
      "2024-09-12 12:06:11,700[DEBUG] optimize site: [7, 8]\n"
     ]
    },
    {
     "name": "stderr",
     "output_type": "stream",
     "text": [
      "2024-09-12 12:06:11,708[DEBUG] use davidson, HC hops: 5\n"
     ]
    },
    {
     "name": "stderr",
     "output_type": "stream",
     "text": [
      "2024-09-12 12:06:11,710[DEBUG] energy: -13.997315006066746\n"
     ]
    },
    {
     "name": "stderr",
     "output_type": "stream",
     "text": [
      "2024-09-12 12:06:11,714[DEBUG] optimize site: [8, 9]\n"
     ]
    },
    {
     "name": "stderr",
     "output_type": "stream",
     "text": [
      "2024-09-12 12:06:11,723[DEBUG] use davidson, HC hops: 7\n"
     ]
    },
    {
     "name": "stderr",
     "output_type": "stream",
     "text": [
      "2024-09-12 12:06:11,725[DEBUG] energy: -13.997315033374624\n"
     ]
    },
    {
     "name": "stderr",
     "output_type": "stream",
     "text": [
      "2024-09-12 12:06:11,729[DEBUG] optimize site: [9, 10]\n"
     ]
    },
    {
     "name": "stderr",
     "output_type": "stream",
     "text": [
      "2024-09-12 12:06:11,737[DEBUG] use davidson, HC hops: 6\n"
     ]
    },
    {
     "name": "stderr",
     "output_type": "stream",
     "text": [
      "2024-09-12 12:06:11,739[DEBUG] energy: -13.997315010122048\n"
     ]
    },
    {
     "name": "stderr",
     "output_type": "stream",
     "text": [
      "2024-09-12 12:06:11,743[DEBUG] optimize site: [10, 11]\n"
     ]
    },
    {
     "name": "stderr",
     "output_type": "stream",
     "text": [
      "2024-09-12 12:06:11,753[DEBUG] use davidson, HC hops: 8\n"
     ]
    },
    {
     "name": "stderr",
     "output_type": "stream",
     "text": [
      "2024-09-12 12:06:11,755[DEBUG] energy: -13.99731505577698\n"
     ]
    },
    {
     "name": "stderr",
     "output_type": "stream",
     "text": [
      "2024-09-12 12:06:11,759[DEBUG] optimize site: [11, 12]\n"
     ]
    },
    {
     "name": "stderr",
     "output_type": "stream",
     "text": [
      "2024-09-12 12:06:11,768[DEBUG] use davidson, HC hops: 7\n"
     ]
    },
    {
     "name": "stderr",
     "output_type": "stream",
     "text": [
      "2024-09-12 12:06:11,771[DEBUG] energy: -13.997315015890592\n"
     ]
    },
    {
     "name": "stderr",
     "output_type": "stream",
     "text": [
      "2024-09-12 12:06:11,775[DEBUG] optimize site: [12, 13]\n"
     ]
    },
    {
     "name": "stderr",
     "output_type": "stream",
     "text": [
      "2024-09-12 12:06:11,786[DEBUG] use davidson, HC hops: 8\n"
     ]
    },
    {
     "name": "stderr",
     "output_type": "stream",
     "text": [
      "2024-09-12 12:06:11,789[DEBUG] energy: -13.997315076759524\n"
     ]
    },
    {
     "name": "stderr",
     "output_type": "stream",
     "text": [
      "2024-09-12 12:06:11,793[DEBUG] optimize site: [13, 14]\n"
     ]
    },
    {
     "name": "stderr",
     "output_type": "stream",
     "text": [
      "2024-09-12 12:06:11,806[DEBUG] use davidson, HC hops: 7\n"
     ]
    },
    {
     "name": "stderr",
     "output_type": "stream",
     "text": [
      "2024-09-12 12:06:11,809[DEBUG] energy: -13.997315021063878\n"
     ]
    },
    {
     "name": "stderr",
     "output_type": "stream",
     "text": [
      "2024-09-12 12:06:11,812[DEBUG] optimize site: [14, 15]\n"
     ]
    },
    {
     "name": "stderr",
     "output_type": "stream",
     "text": [
      "2024-09-12 12:06:11,823[DEBUG] use davidson, HC hops: 8\n"
     ]
    },
    {
     "name": "stderr",
     "output_type": "stream",
     "text": [
      "2024-09-12 12:06:11,825[DEBUG] energy: -13.997315089163585\n"
     ]
    },
    {
     "name": "stderr",
     "output_type": "stream",
     "text": [
      "2024-09-12 12:06:11,829[DEBUG] optimize site: [15, 16]\n"
     ]
    },
    {
     "name": "stderr",
     "output_type": "stream",
     "text": [
      "2024-09-12 12:06:11,840[DEBUG] use davidson, HC hops: 8\n"
     ]
    },
    {
     "name": "stderr",
     "output_type": "stream",
     "text": [
      "2024-09-12 12:06:11,842[DEBUG] energy: -13.997315023237828\n"
     ]
    },
    {
     "name": "stderr",
     "output_type": "stream",
     "text": [
      "2024-09-12 12:06:11,845[DEBUG] optimize site: [16, 17]\n"
     ]
    },
    {
     "name": "stderr",
     "output_type": "stream",
     "text": [
      "2024-09-12 12:06:11,864[DEBUG] use davidson, HC hops: 9\n"
     ]
    },
    {
     "name": "stderr",
     "output_type": "stream",
     "text": [
      "2024-09-12 12:06:11,866[DEBUG] energy: -13.997315090211742\n"
     ]
    },
    {
     "name": "stderr",
     "output_type": "stream",
     "text": [
      "2024-09-12 12:06:11,869[DEBUG] optimize site: [17, 18]\n"
     ]
    },
    {
     "name": "stderr",
     "output_type": "stream",
     "text": [
      "2024-09-12 12:06:11,880[DEBUG] use davidson, HC hops: 8\n"
     ]
    },
    {
     "name": "stderr",
     "output_type": "stream",
     "text": [
      "2024-09-12 12:06:11,882[DEBUG] energy: -13.997315022014352\n"
     ]
    },
    {
     "name": "stderr",
     "output_type": "stream",
     "text": [
      "2024-09-12 12:06:11,886[DEBUG] optimize site: [18, 19]\n"
     ]
    },
    {
     "name": "stderr",
     "output_type": "stream",
     "text": [
      "2024-09-12 12:06:11,896[DEBUG] use davidson, HC hops: 8\n"
     ]
    },
    {
     "name": "stderr",
     "output_type": "stream",
     "text": [
      "2024-09-12 12:06:11,898[DEBUG] energy: -13.997315079212644\n"
     ]
    },
    {
     "name": "stderr",
     "output_type": "stream",
     "text": [
      "2024-09-12 12:06:11,902[DEBUG] optimize site: [19, 20]\n"
     ]
    },
    {
     "name": "stderr",
     "output_type": "stream",
     "text": [
      "2024-09-12 12:06:11,911[DEBUG] use davidson, HC hops: 7\n"
     ]
    },
    {
     "name": "stderr",
     "output_type": "stream",
     "text": [
      "2024-09-12 12:06:11,913[DEBUG] energy: -13.99731501838977\n"
     ]
    },
    {
     "name": "stderr",
     "output_type": "stream",
     "text": [
      "2024-09-12 12:06:11,917[DEBUG] optimize site: [20, 21]\n"
     ]
    },
    {
     "name": "stderr",
     "output_type": "stream",
     "text": [
      "2024-09-12 12:06:11,927[DEBUG] use davidson, HC hops: 8\n"
     ]
    },
    {
     "name": "stderr",
     "output_type": "stream",
     "text": [
      "2024-09-12 12:06:11,929[DEBUG] energy: -13.997315060471658\n"
     ]
    },
    {
     "name": "stderr",
     "output_type": "stream",
     "text": [
      "2024-09-12 12:06:11,933[DEBUG] optimize site: [21, 22]\n"
     ]
    },
    {
     "name": "stderr",
     "output_type": "stream",
     "text": [
      "2024-09-12 12:06:11,943[DEBUG] use davidson, HC hops: 6\n"
     ]
    },
    {
     "name": "stderr",
     "output_type": "stream",
     "text": [
      "2024-09-12 12:06:11,945[DEBUG] energy: -13.997315014223059\n"
     ]
    },
    {
     "name": "stderr",
     "output_type": "stream",
     "text": [
      "2024-09-12 12:06:11,949[DEBUG] optimize site: [22, 23]\n"
     ]
    },
    {
     "name": "stderr",
     "output_type": "stream",
     "text": [
      "2024-09-12 12:06:11,961[DEBUG] use davidson, HC hops: 8\n"
     ]
    },
    {
     "name": "stderr",
     "output_type": "stream",
     "text": [
      "2024-09-12 12:06:11,963[DEBUG] energy: -13.997315036380833\n"
     ]
    },
    {
     "name": "stderr",
     "output_type": "stream",
     "text": [
      "2024-09-12 12:06:11,967[DEBUG] optimize site: [23, 24]\n"
     ]
    },
    {
     "name": "stderr",
     "output_type": "stream",
     "text": [
      "2024-09-12 12:06:11,976[DEBUG] use davidson, HC hops: 6\n"
     ]
    },
    {
     "name": "stderr",
     "output_type": "stream",
     "text": [
      "2024-09-12 12:06:11,978[DEBUG] energy: -13.997315009063415\n"
     ]
    },
    {
     "name": "stderr",
     "output_type": "stream",
     "text": [
      "2024-09-12 12:06:11,981[DEBUG] optimize site: [24, 25]\n"
     ]
    },
    {
     "name": "stderr",
     "output_type": "stream",
     "text": [
      "2024-09-12 12:06:11,990[DEBUG] use davidson, HC hops: 6\n"
     ]
    },
    {
     "name": "stderr",
     "output_type": "stream",
     "text": [
      "2024-09-12 12:06:11,992[DEBUG] energy: -13.997315015431901\n"
     ]
    },
    {
     "name": "stderr",
     "output_type": "stream",
     "text": [
      "2024-09-12 12:06:11,996[DEBUG] optimize site: [25, 26]\n"
     ]
    },
    {
     "name": "stderr",
     "output_type": "stream",
     "text": [
      "2024-09-12 12:06:12,007[DEBUG] use davidson, HC hops: 5\n"
     ]
    },
    {
     "name": "stderr",
     "output_type": "stream",
     "text": [
      "2024-09-12 12:06:12,008[DEBUG] energy: -13.997315007630576\n"
     ]
    },
    {
     "name": "stderr",
     "output_type": "stream",
     "text": [
      "2024-09-12 12:06:12,012[DEBUG] optimize site: [26, 27]\n"
     ]
    },
    {
     "name": "stderr",
     "output_type": "stream",
     "text": [
      "2024-09-12 12:06:12,021[DEBUG] use davidson, HC hops: 4\n"
     ]
    },
    {
     "name": "stderr",
     "output_type": "stream",
     "text": [
      "2024-09-12 12:06:12,023[DEBUG] energy: -13.997315007727543\n"
     ]
    },
    {
     "name": "stderr",
     "output_type": "stream",
     "text": [
      "2024-09-12 12:06:12,025[DEBUG] optimize site: [27, 28]\n"
     ]
    },
    {
     "name": "stderr",
     "output_type": "stream",
     "text": [
      "2024-09-12 12:06:12,028[DEBUG] use direct eigensolver\n"
     ]
    },
    {
     "name": "stderr",
     "output_type": "stream",
     "text": [
      "2024-09-12 12:06:12,293[DEBUG] energy: -13.997315007427513\n"
     ]
    },
    {
     "name": "stderr",
     "output_type": "stream",
     "text": [
      "2024-09-12 12:06:12,296[DEBUG] optimize site: [28, 29]\n"
     ]
    },
    {
     "name": "stderr",
     "output_type": "stream",
     "text": [
      "2024-09-12 12:06:12,304[DEBUG] use direct eigensolver\n"
     ]
    },
    {
     "name": "stderr",
     "output_type": "stream",
     "text": [
      "2024-09-12 12:06:12,402[DEBUG] energy: -13.99731500742751\n"
     ]
    },
    {
     "name": "stderr",
     "output_type": "stream",
     "text": [
      "2024-09-12 12:06:12,404[DEBUG] optimize site: [29, 30]\n"
     ]
    },
    {
     "name": "stderr",
     "output_type": "stream",
     "text": [
      "2024-09-12 12:06:12,407[DEBUG] use direct eigensolver\n"
     ]
    },
    {
     "name": "stderr",
     "output_type": "stream",
     "text": [
      "2024-09-12 12:06:12,415[DEBUG] energy: -13.997315007427527\n"
     ]
    },
    {
     "name": "stderr",
     "output_type": "stream",
     "text": [
      "2024-09-12 12:06:12,417[DEBUG] optimize site: [30, 31]\n"
     ]
    },
    {
     "name": "stderr",
     "output_type": "stream",
     "text": [
      "2024-09-12 12:06:12,420[DEBUG] use direct eigensolver\n"
     ]
    },
    {
     "name": "stderr",
     "output_type": "stream",
     "text": [
      "2024-09-12 12:06:12,422[DEBUG] energy: -13.997315007427527\n"
     ]
    },
    {
     "name": "stderr",
     "output_type": "stream",
     "text": [
      "2024-09-12 12:06:12,425[DEBUG] 3 sweeps are finished, lowest energy = -13.997315090211742\n"
     ]
    },
    {
     "name": "stderr",
     "output_type": "stream",
     "text": [
      "2024-09-12 12:06:12,427[INFO] DMRG has converged!\n"
     ]
    },
    {
     "name": "stderr",
     "output_type": "stream",
     "text": [
      "2024-09-12 12:06:12,461[INFO] mps current size: 329.7KiB, Matrix product bond dim:[1, 2, 4, 8, 16, 30, 30, 30, 30, 30, 30, 30, 30, 30, 30, 30, 30, 30, 30, 30, 30, 30, 30, 30, 30, 30, 30, 30, 16, 8, 4, 2, 1]\n"
     ]
    },
    {
     "name": "stdout",
     "output_type": "stream",
     "text": [
      "gs energy: -13.997315090211742\n"
     ]
    }
   ],
   "source": [
    "# set the sweep paramter\n",
    "M = 30\n",
    "procedure = [[M, 0.2], [M, 0], [M, 0], [M,0], [M,0]]\n",
    "\n",
    "# initialize a random MPS\n",
    "qntot = 0\n",
    "mps = Mps.random(model, qntot, M)\n",
    "\n",
    "mps.optimize_config.procedure = procedure\n",
    "mps.optimize_config.method = \"2site\"\n",
    "\n",
    "# optimize MPS\n",
    "energies, _ = optimize_mps(mps.copy(), mpo)\n",
    "print(\"gs energy:\", min(energies))"
   ]
  },
  {
   "cell_type": "code",
   "execution_count": null,
   "metadata": {},
   "outputs": [],
   "source": []
  }
 ],
 "metadata": {
  "kernelspec": {
   "display_name": "Python 3 (ipykernel)",
   "language": "python",
   "name": "python3"
  },
  "language_info": {
   "codemirror_mode": {
    "name": "ipython",
    "version": 3
   },
   "file_extension": ".py",
   "mimetype": "text/x-python",
   "name": "python",
   "nbconvert_exporter": "python",
   "pygments_lexer": "ipython3",
   "version": "3.8.18"
  }
 },
 "nbformat": 4,
 "nbformat_minor": 4
}
