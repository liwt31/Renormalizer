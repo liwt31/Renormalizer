{
 "cells": [
  {
   "cell_type": "markdown",
   "metadata": {},
   "source": [
    "# Spin-1/2 1-D Heisenberg model"
   ]
  },
  {
   "cell_type": "markdown",
   "metadata": {},
   "source": [
    "## Overview"
   ]
  },
  {
   "cell_type": "markdown",
   "metadata": {},
   "source": [
    "This notebook will give an example how to use Renormalizer to calculate the ground state energy of the open boundary spin 1/2 1-D Heisenberg model.\n",
    "\n",
    "$$\n",
    "H = J \\sum_i [S_i^z S_{i+1}^z + \\frac{1}{2}(S_i^+ S_{i+1}^- + S_i^- S_{i+1}^+)]\n",
    "$$\n",
    "\n",
    "Exact result via Bethe Anstatz:\n",
    "\n",
    "|$L$ |      $E/J$|\n",
    "|----|-----------|\n",
    "|16  |-6.9117371455749|\n",
    "|24  |-10.4537857604096|\n",
    "|32  |-13.9973156182243|\n",
    "|48  |-21.0859563143863|\n",
    "|64  |-28.1754248597421|\n"
   ]
  },
  {
   "cell_type": "markdown",
   "metadata": {},
   "source": [
    "## Setup"
   ]
  },
  {
   "cell_type": "code",
   "execution_count": 1,
   "metadata": {
    "execution": {
     "iopub.execute_input": "2024-06-27T07:33:55.910464Z",
     "iopub.status.busy": "2024-06-27T07:33:55.909963Z",
     "iopub.status.idle": "2024-06-27T07:33:56.842572Z",
     "shell.execute_reply": "2024-06-27T07:33:56.841949Z"
    }
   },
   "outputs": [
    {
     "name": "stderr",
     "output_type": "stream",
     "text": [
      "2024-06-27 07:33:56,731[INFO] Use NumPy as backend\n"
     ]
    },
    {
     "name": "stderr",
     "output_type": "stream",
     "text": [
      "2024-06-27 07:33:56,731[INFO] numpy random seed is 9012\n"
     ]
    },
    {
     "name": "stderr",
     "output_type": "stream",
     "text": [
      "2024-06-27 07:33:56,732[INFO] random seed is 1092\n"
     ]
    },
    {
     "name": "stderr",
     "output_type": "stream",
     "text": [
      "2024-06-27 07:33:56,744[INFO] Git Commit Hash: f8fda66a146b44930935f06cae2608b9df990075\n"
     ]
    },
    {
     "name": "stderr",
     "output_type": "stream",
     "text": [
      "2024-06-27 07:33:56,745[INFO] use 64 bits\n"
     ]
    }
   ],
   "source": [
    "from renormalizer import Model, Op, BasisHalfSpin,  Mps, Mpo, optimize_mps"
   ]
  },
  {
   "cell_type": "markdown",
   "metadata": {},
   "source": [
    "## Define the Model\n",
    "In Renormalizer, models are defined by the Hamiltonian terms and the a list of basis sets. The basis also defines the ordering in DMRG.\n",
    "\n",
    "The spin operators can be represented by Pauli operators\n",
    "$$\n",
    "S^+ = \\sigma^+ \n",
    "$$\n",
    "$$\n",
    "S^- = \\sigma^- \n",
    "$$\n",
    "$$\n",
    "S^{\\{x,y,z\\}} = \\frac{1}{2} \\sigma^{\\{x,y,z\\}}\n",
    "$$"
   ]
  },
  {
   "cell_type": "code",
   "execution_count": 2,
   "metadata": {
    "execution": {
     "iopub.execute_input": "2024-06-27T07:33:56.845532Z",
     "iopub.status.busy": "2024-06-27T07:33:56.845259Z",
     "iopub.status.idle": "2024-06-27T07:33:56.906786Z",
     "shell.execute_reply": "2024-06-27T07:33:56.906138Z"
    }
   },
   "outputs": [
    {
     "name": "stderr",
     "output_type": "stream",
     "text": [
      "2024-06-27 07:33:56,853[DEBUG] # of operator terms: 93\n"
     ]
    },
    {
     "name": "stderr",
     "output_type": "stream",
     "text": [
      "2024-06-27 07:33:56,853[DEBUG] symbolic mpo algorithm: qr\n"
     ]
    },
    {
     "name": "stderr",
     "output_type": "stream",
     "text": [
      "2024-06-27 07:33:56,854[DEBUG] Input operator terms: 93\n"
     ]
    },
    {
     "name": "stderr",
     "output_type": "stream",
     "text": [
      "2024-06-27 07:33:56,879[DEBUG] After combination of the same terms: 93\n"
     ]
    },
    {
     "name": "stdout",
     "output_type": "stream",
     "text": [
      "mpo_bond_dims:[1, 4, 5, 5, 5, 5, 5, 5, 5, 5, 5, 5, 5, 5, 5, 5, 5, 5, 5, 5, 5, 5, 5, 5, 5, 5, 5, 5, 5, 5, 5, 4, 1]\n"
     ]
    }
   ],
   "source": [
    "# define the # of spins\n",
    "nspin = 32\n",
    "\n",
    "# define the model\n",
    "\n",
    "ham_terms = []\n",
    "for ispin in range(nspin-1):\n",
    "    op1 = Op(\"sigma_z sigma_z\", [ispin, ispin+1], 1.0/4)\n",
    "    op2 = Op(\"sigma_+ sigma_-\", [ispin, ispin+1], 1.0/2)\n",
    "    op3 = Op(\"sigma_- sigma_+\", [ispin, ispin+1], 1.0/2)\n",
    "    ham_terms.extend([op1, op2, op3])\n",
    "\n",
    "# set the spin order and local basis\n",
    "basis = [BasisHalfSpin(i) for i in range(nspin)]\n",
    "# construct Hamiltonian MPO\n",
    "model = Model(basis, ham_terms)\n",
    "mpo = Mpo(model)\n",
    "print(f\"mpo_bond_dims:{mpo.bond_dims}\")"
   ]
  },
  {
   "cell_type": "markdown",
   "metadata": {},
   "source": [
    "## DMRG Sweeps"
   ]
  },
  {
   "cell_type": "code",
   "execution_count": 3,
   "metadata": {
    "execution": {
     "iopub.execute_input": "2024-06-27T07:33:56.909192Z",
     "iopub.status.busy": "2024-06-27T07:33:56.908990Z",
     "iopub.status.idle": "2024-06-27T07:34:02.957089Z",
     "shell.execute_reply": "2024-06-27T07:34:02.956423Z"
    }
   },
   "outputs": [
    {
     "name": "stderr",
     "output_type": "stream",
     "text": [
      "2024-06-27 07:33:56,948[INFO] optimization method: 2site\n"
     ]
    },
    {
     "name": "stderr",
     "output_type": "stream",
     "text": [
      "2024-06-27 07:33:56,949[INFO] e_rtol: 1e-06\n"
     ]
    },
    {
     "name": "stderr",
     "output_type": "stream",
     "text": [
      "2024-06-27 07:33:56,950[INFO] e_atol: 1e-08\n"
     ]
    },
    {
     "name": "stderr",
     "output_type": "stream",
     "text": [
      "2024-06-27 07:33:56,951[INFO] procedure: [[30, 0.2], [30, 0], [30, 0], [30, 0], [30, 0]]\n"
     ]
    },
    {
     "name": "stderr",
     "output_type": "stream",
     "text": [
      "2024-06-27 07:33:56,982[DEBUG] isweep: 0\n"
     ]
    },
    {
     "name": "stderr",
     "output_type": "stream",
     "text": [
      "2024-06-27 07:33:56,984[DEBUG] compress config in current loop: 30, percent: 0.2\n"
     ]
    },
    {
     "name": "stderr",
     "output_type": "stream",
     "text": [
      "2024-06-27 07:33:56,985[DEBUG] mps current size: 329.7KiB, Matrix product bond dim:[1, 2, 4, 8, 16, 30, 30, 30, 30, 30, 30, 30, 30, 30, 30, 30, 30, 30, 30, 30, 30, 30, 30, 30, 30, 30, 30, 30, 16, 8, 4, 2, 1]\n"
     ]
    },
    {
     "name": "stderr",
     "output_type": "stream",
     "text": [
      "2024-06-27 07:33:56,986[DEBUG] optimize site: [0, 1]\n"
     ]
    },
    {
     "name": "stderr",
     "output_type": "stream",
     "text": [
      "2024-06-27 07:33:56,987[DEBUG] use direct eigensolver\n"
     ]
    },
    {
     "name": "stderr",
     "output_type": "stream",
     "text": [
      "2024-06-27 07:33:56,990[DEBUG] energy: -0.9279990226898329\n"
     ]
    },
    {
     "name": "stderr",
     "output_type": "stream",
     "text": [
      "2024-06-27 07:33:56,992[DEBUG] optimize site: [1, 2]\n"
     ]
    },
    {
     "name": "stderr",
     "output_type": "stream",
     "text": [
      "2024-06-27 07:33:56,994[DEBUG] use direct eigensolver\n"
     ]
    },
    {
     "name": "stderr",
     "output_type": "stream",
     "text": [
      "2024-06-27 07:33:56,998[DEBUG] energy: -1.284089573410534\n"
     ]
    },
    {
     "name": "stderr",
     "output_type": "stream",
     "text": [
      "2024-06-27 07:33:57,000[DEBUG] optimize site: [2, 3]\n"
     ]
    },
    {
     "name": "stderr",
     "output_type": "stream",
     "text": [
      "2024-06-27 07:33:57,002[DEBUG] use direct eigensolver\n"
     ]
    },
    {
     "name": "stderr",
     "output_type": "stream",
     "text": [
      "2024-06-27 07:33:57,024[DEBUG] energy: -2.0857452647499204\n"
     ]
    },
    {
     "name": "stderr",
     "output_type": "stream",
     "text": [
      "2024-06-27 07:33:57,026[DEBUG] optimize site: [3, 4]\n"
     ]
    },
    {
     "name": "stderr",
     "output_type": "stream",
     "text": [
      "2024-06-27 07:33:57,028[DEBUG] use direct eigensolver\n"
     ]
    },
    {
     "name": "stderr",
     "output_type": "stream",
     "text": [
      "2024-06-27 07:33:57,277[DEBUG] energy: -2.815889527237409\n"
     ]
    },
    {
     "name": "stderr",
     "output_type": "stream",
     "text": [
      "2024-06-27 07:33:57,279[DEBUG] optimize site: [4, 5]\n"
     ]
    },
    {
     "name": "stderr",
     "output_type": "stream",
     "text": [
      "2024-06-27 07:33:57,333[DEBUG] use davidson, HC hops: 34\n"
     ]
    },
    {
     "name": "stderr",
     "output_type": "stream",
     "text": [
      "2024-06-27 07:33:57,335[DEBUG] energy: -3.293367315585802\n"
     ]
    },
    {
     "name": "stderr",
     "output_type": "stream",
     "text": [
      "2024-06-27 07:33:57,337[DEBUG] optimize site: [5, 6]\n"
     ]
    },
    {
     "name": "stderr",
     "output_type": "stream",
     "text": [
      "2024-06-27 07:33:57,412[DEBUG] use davidson, HC hops: 42\n"
     ]
    },
    {
     "name": "stderr",
     "output_type": "stream",
     "text": [
      "2024-06-27 07:33:57,413[DEBUG] energy: -3.7449867503071976\n"
     ]
    },
    {
     "name": "stderr",
     "output_type": "stream",
     "text": [
      "2024-06-27 07:33:57,417[DEBUG] optimize site: [6, 7]\n"
     ]
    },
    {
     "name": "stderr",
     "output_type": "stream",
     "text": [
      "2024-06-27 07:33:57,495[DEBUG] use davidson, HC hops: 42\n"
     ]
    },
    {
     "name": "stderr",
     "output_type": "stream",
     "text": [
      "2024-06-27 07:33:57,496[DEBUG] energy: -4.176385575496491\n"
     ]
    },
    {
     "name": "stderr",
     "output_type": "stream",
     "text": [
      "2024-06-27 07:33:57,500[DEBUG] optimize site: [7, 8]\n"
     ]
    },
    {
     "name": "stderr",
     "output_type": "stream",
     "text": [
      "2024-06-27 07:33:57,578[DEBUG] use davidson, HC hops: 44\n"
     ]
    },
    {
     "name": "stderr",
     "output_type": "stream",
     "text": [
      "2024-06-27 07:33:57,580[DEBUG] energy: -4.583593477927389\n"
     ]
    },
    {
     "name": "stderr",
     "output_type": "stream",
     "text": [
      "2024-06-27 07:33:57,584[DEBUG] optimize site: [8, 9]\n"
     ]
    },
    {
     "name": "stderr",
     "output_type": "stream",
     "text": [
      "2024-06-27 07:33:57,681[DEBUG] use davidson, HC hops: 55\n"
     ]
    },
    {
     "name": "stderr",
     "output_type": "stream",
     "text": [
      "2024-06-27 07:33:57,684[DEBUG] energy: -4.968031845671202\n"
     ]
    },
    {
     "name": "stderr",
     "output_type": "stream",
     "text": [
      "2024-06-27 07:33:57,688[DEBUG] optimize site: [9, 10]\n"
     ]
    },
    {
     "name": "stderr",
     "output_type": "stream",
     "text": [
      "2024-06-27 07:33:57,808[DEBUG] use davidson, HC hops: 68\n"
     ]
    },
    {
     "name": "stderr",
     "output_type": "stream",
     "text": [
      "2024-06-27 07:33:57,810[DEBUG] energy: -5.414706360833982\n"
     ]
    },
    {
     "name": "stderr",
     "output_type": "stream",
     "text": [
      "2024-06-27 07:33:57,821[DEBUG] optimize site: [10, 11]\n"
     ]
    },
    {
     "name": "stderr",
     "output_type": "stream",
     "text": [
      "2024-06-27 07:33:57,948[DEBUG] use davidson, HC hops: 72\n"
     ]
    },
    {
     "name": "stderr",
     "output_type": "stream",
     "text": [
      "2024-06-27 07:33:57,950[DEBUG] energy: -5.856529754520469\n"
     ]
    },
    {
     "name": "stderr",
     "output_type": "stream",
     "text": [
      "2024-06-27 07:33:57,961[DEBUG] optimize site: [11, 12]\n"
     ]
    },
    {
     "name": "stderr",
     "output_type": "stream",
     "text": [
      "2024-06-27 07:33:58,136[DEBUG] use davidson, HC hops: 100\n"
     ]
    },
    {
     "name": "stderr",
     "output_type": "stream",
     "text": [
      "2024-06-27 07:33:58,139[DEBUG] energy: -6.279022467295804\n"
     ]
    },
    {
     "name": "stderr",
     "output_type": "stream",
     "text": [
      "2024-06-27 07:33:58,150[DEBUG] optimize site: [12, 13]\n"
     ]
    },
    {
     "name": "stderr",
     "output_type": "stream",
     "text": [
      "2024-06-27 07:33:58,245[DEBUG] use davidson, HC hops: 52\n"
     ]
    },
    {
     "name": "stderr",
     "output_type": "stream",
     "text": [
      "2024-06-27 07:33:58,247[DEBUG] energy: -6.857389012204751\n"
     ]
    },
    {
     "name": "stderr",
     "output_type": "stream",
     "text": [
      "2024-06-27 07:33:58,250[DEBUG] optimize site: [13, 14]\n"
     ]
    },
    {
     "name": "stderr",
     "output_type": "stream",
     "text": [
      "2024-06-27 07:33:58,349[DEBUG] use davidson, HC hops: 100\n"
     ]
    },
    {
     "name": "stderr",
     "output_type": "stream",
     "text": [
      "2024-06-27 07:33:58,351[DEBUG] energy: -7.114588022005775\n"
     ]
    },
    {
     "name": "stderr",
     "output_type": "stream",
     "text": [
      "2024-06-27 07:33:58,355[DEBUG] optimize site: [14, 15]\n"
     ]
    },
    {
     "name": "stderr",
     "output_type": "stream",
     "text": [
      "2024-06-27 07:33:58,401[DEBUG] use davidson, HC hops: 47\n"
     ]
    },
    {
     "name": "stderr",
     "output_type": "stream",
     "text": [
      "2024-06-27 07:33:58,403[DEBUG] energy: -7.6416317838354075\n"
     ]
    },
    {
     "name": "stderr",
     "output_type": "stream",
     "text": [
      "2024-06-27 07:33:58,406[DEBUG] optimize site: [15, 16]\n"
     ]
    },
    {
     "name": "stderr",
     "output_type": "stream",
     "text": [
      "2024-06-27 07:33:58,454[DEBUG] use davidson, HC hops: 51\n"
     ]
    },
    {
     "name": "stderr",
     "output_type": "stream",
     "text": [
      "2024-06-27 07:33:58,456[DEBUG] energy: -8.118395338420044\n"
     ]
    },
    {
     "name": "stderr",
     "output_type": "stream",
     "text": [
      "2024-06-27 07:33:58,460[DEBUG] optimize site: [16, 17]\n"
     ]
    },
    {
     "name": "stderr",
     "output_type": "stream",
     "text": [
      "2024-06-27 07:33:58,516[DEBUG] use davidson, HC hops: 57\n"
     ]
    },
    {
     "name": "stderr",
     "output_type": "stream",
     "text": [
      "2024-06-27 07:33:58,518[DEBUG] energy: -8.57953343076284\n"
     ]
    },
    {
     "name": "stderr",
     "output_type": "stream",
     "text": [
      "2024-06-27 07:33:58,521[DEBUG] optimize site: [17, 18]\n"
     ]
    },
    {
     "name": "stderr",
     "output_type": "stream",
     "text": [
      "2024-06-27 07:33:58,609[DEBUG] use davidson, HC hops: 66\n"
     ]
    },
    {
     "name": "stderr",
     "output_type": "stream",
     "text": [
      "2024-06-27 07:33:58,611[DEBUG] energy: -8.983113190158445\n"
     ]
    },
    {
     "name": "stderr",
     "output_type": "stream",
     "text": [
      "2024-06-27 07:33:58,615[DEBUG] optimize site: [18, 19]\n"
     ]
    },
    {
     "name": "stderr",
     "output_type": "stream",
     "text": [
      "2024-06-27 07:33:58,677[DEBUG] use davidson, HC hops: 62\n"
     ]
    },
    {
     "name": "stderr",
     "output_type": "stream",
     "text": [
      "2024-06-27 07:33:58,679[DEBUG] energy: -9.422205404607649\n"
     ]
    },
    {
     "name": "stderr",
     "output_type": "stream",
     "text": [
      "2024-06-27 07:33:58,682[DEBUG] optimize site: [19, 20]\n"
     ]
    },
    {
     "name": "stderr",
     "output_type": "stream",
     "text": [
      "2024-06-27 07:33:58,755[DEBUG] use davidson, HC hops: 62\n"
     ]
    },
    {
     "name": "stderr",
     "output_type": "stream",
     "text": [
      "2024-06-27 07:33:58,757[DEBUG] energy: -9.903693680914381\n"
     ]
    },
    {
     "name": "stderr",
     "output_type": "stream",
     "text": [
      "2024-06-27 07:33:58,762[DEBUG] optimize site: [20, 21]\n"
     ]
    },
    {
     "name": "stderr",
     "output_type": "stream",
     "text": [
      "2024-06-27 07:33:58,876[DEBUG] use davidson, HC hops: 81\n"
     ]
    },
    {
     "name": "stderr",
     "output_type": "stream",
     "text": [
      "2024-06-27 07:33:58,878[DEBUG] energy: -10.398530611697957\n"
     ]
    },
    {
     "name": "stderr",
     "output_type": "stream",
     "text": [
      "2024-06-27 07:33:58,888[DEBUG] optimize site: [21, 22]\n"
     ]
    },
    {
     "name": "stderr",
     "output_type": "stream",
     "text": [
      "2024-06-27 07:33:58,962[DEBUG] use davidson, HC hops: 76\n"
     ]
    },
    {
     "name": "stderr",
     "output_type": "stream",
     "text": [
      "2024-06-27 07:33:58,964[DEBUG] energy: -10.83448943442166\n"
     ]
    },
    {
     "name": "stderr",
     "output_type": "stream",
     "text": [
      "2024-06-27 07:33:58,967[DEBUG] optimize site: [22, 23]\n"
     ]
    },
    {
     "name": "stderr",
     "output_type": "stream",
     "text": [
      "2024-06-27 07:33:59,066[DEBUG] use davidson, HC hops: 58\n"
     ]
    },
    {
     "name": "stderr",
     "output_type": "stream",
     "text": [
      "2024-06-27 07:33:59,068[DEBUG] energy: -11.415128707126796\n"
     ]
    },
    {
     "name": "stderr",
     "output_type": "stream",
     "text": [
      "2024-06-27 07:33:59,073[DEBUG] optimize site: [23, 24]\n"
     ]
    },
    {
     "name": "stderr",
     "output_type": "stream",
     "text": [
      "2024-06-27 07:33:59,162[DEBUG] use davidson, HC hops: 52\n"
     ]
    },
    {
     "name": "stderr",
     "output_type": "stream",
     "text": [
      "2024-06-27 07:33:59,162[DEBUG] energy: -12.122795879745038\n"
     ]
    },
    {
     "name": "stderr",
     "output_type": "stream",
     "text": [
      "2024-06-27 07:33:59,166[DEBUG] optimize site: [24, 25]\n"
     ]
    },
    {
     "name": "stderr",
     "output_type": "stream",
     "text": [
      "2024-06-27 07:33:59,283[DEBUG] use davidson, HC hops: 71\n"
     ]
    },
    {
     "name": "stderr",
     "output_type": "stream",
     "text": [
      "2024-06-27 07:33:59,284[DEBUG] energy: -12.812234874023472\n"
     ]
    },
    {
     "name": "stderr",
     "output_type": "stream",
     "text": [
      "2024-06-27 07:33:59,293[DEBUG] optimize site: [25, 26]\n"
     ]
    },
    {
     "name": "stderr",
     "output_type": "stream",
     "text": [
      "2024-06-27 07:33:59,361[DEBUG] use davidson, HC hops: 58\n"
     ]
    },
    {
     "name": "stderr",
     "output_type": "stream",
     "text": [
      "2024-06-27 07:33:59,363[DEBUG] energy: -13.774582804126638\n"
     ]
    },
    {
     "name": "stderr",
     "output_type": "stream",
     "text": [
      "2024-06-27 07:33:59,367[DEBUG] optimize site: [26, 27]\n"
     ]
    },
    {
     "name": "stderr",
     "output_type": "stream",
     "text": [
      "2024-06-27 07:33:59,407[DEBUG] use davidson, HC hops: 47\n"
     ]
    },
    {
     "name": "stderr",
     "output_type": "stream",
     "text": [
      "2024-06-27 07:33:59,409[DEBUG] energy: -13.996832655813062\n"
     ]
    },
    {
     "name": "stderr",
     "output_type": "stream",
     "text": [
      "2024-06-27 07:33:59,412[DEBUG] optimize site: [27, 28]\n"
     ]
    },
    {
     "name": "stderr",
     "output_type": "stream",
     "text": [
      "2024-06-27 07:33:59,414[DEBUG] use direct eigensolver\n"
     ]
    },
    {
     "name": "stderr",
     "output_type": "stream",
     "text": [
      "2024-06-27 07:33:59,663[DEBUG] energy: -13.996832655533987\n"
     ]
    },
    {
     "name": "stderr",
     "output_type": "stream",
     "text": [
      "2024-06-27 07:33:59,667[DEBUG] optimize site: [28, 29]\n"
     ]
    },
    {
     "name": "stderr",
     "output_type": "stream",
     "text": [
      "2024-06-27 07:33:59,669[DEBUG] use direct eigensolver\n"
     ]
    },
    {
     "name": "stderr",
     "output_type": "stream",
     "text": [
      "2024-06-27 07:33:59,731[DEBUG] energy: -13.996832655533984\n"
     ]
    },
    {
     "name": "stderr",
     "output_type": "stream",
     "text": [
      "2024-06-27 07:33:59,734[DEBUG] optimize site: [29, 30]\n"
     ]
    },
    {
     "name": "stderr",
     "output_type": "stream",
     "text": [
      "2024-06-27 07:33:59,736[DEBUG] use direct eigensolver\n"
     ]
    },
    {
     "name": "stderr",
     "output_type": "stream",
     "text": [
      "2024-06-27 07:33:59,742[DEBUG] energy: -13.996832655533964\n"
     ]
    },
    {
     "name": "stderr",
     "output_type": "stream",
     "text": [
      "2024-06-27 07:33:59,745[DEBUG] optimize site: [30, 31]\n"
     ]
    },
    {
     "name": "stderr",
     "output_type": "stream",
     "text": [
      "2024-06-27 07:33:59,747[DEBUG] use direct eigensolver\n"
     ]
    },
    {
     "name": "stderr",
     "output_type": "stream",
     "text": [
      "2024-06-27 07:33:59,750[DEBUG] energy: -13.996832655533991\n"
     ]
    },
    {
     "name": "stderr",
     "output_type": "stream",
     "text": [
      "2024-06-27 07:33:59,752[DEBUG] 1 sweeps are finished, lowest energy = -13.996832655813062\n"
     ]
    },
    {
     "name": "stderr",
     "output_type": "stream",
     "text": [
      "2024-06-27 07:33:59,754[DEBUG] isweep: 1\n"
     ]
    },
    {
     "name": "stderr",
     "output_type": "stream",
     "text": [
      "2024-06-27 07:33:59,756[DEBUG] compress config in current loop: 30, percent: 0\n"
     ]
    },
    {
     "name": "stderr",
     "output_type": "stream",
     "text": [
      "2024-06-27 07:33:59,758[DEBUG] mps current size: 343.7KiB, Matrix product bond dim:[1, 2, 4, 8, 16, 30, 30, 30, 30, 30, 30, 30, 30, 30, 30, 30, 30, 30, 30, 30, 30, 30, 30, 30, 30, 30, 30, 30, 30, 16, 8, 4, 1]\n"
     ]
    },
    {
     "name": "stderr",
     "output_type": "stream",
     "text": [
      "2024-06-27 07:33:59,760[DEBUG] optimize site: [30, 31]\n"
     ]
    },
    {
     "name": "stderr",
     "output_type": "stream",
     "text": [
      "2024-06-27 07:33:59,762[DEBUG] use direct eigensolver\n"
     ]
    },
    {
     "name": "stderr",
     "output_type": "stream",
     "text": [
      "2024-06-27 07:33:59,766[DEBUG] energy: -13.996832655533991\n"
     ]
    },
    {
     "name": "stderr",
     "output_type": "stream",
     "text": [
      "2024-06-27 07:33:59,768[DEBUG] optimize site: [29, 30]\n"
     ]
    },
    {
     "name": "stderr",
     "output_type": "stream",
     "text": [
      "2024-06-27 07:33:59,770[DEBUG] use direct eigensolver\n"
     ]
    },
    {
     "name": "stderr",
     "output_type": "stream",
     "text": [
      "2024-06-27 07:33:59,785[DEBUG] energy: -13.996832655533971\n"
     ]
    },
    {
     "name": "stderr",
     "output_type": "stream",
     "text": [
      "2024-06-27 07:33:59,787[DEBUG] optimize site: [28, 29]\n"
     ]
    },
    {
     "name": "stderr",
     "output_type": "stream",
     "text": [
      "2024-06-27 07:33:59,790[DEBUG] use direct eigensolver\n"
     ]
    },
    {
     "name": "stderr",
     "output_type": "stream",
     "text": [
      "2024-06-27 07:33:59,913[DEBUG] energy: -13.996832655533984\n"
     ]
    },
    {
     "name": "stderr",
     "output_type": "stream",
     "text": [
      "2024-06-27 07:33:59,916[DEBUG] optimize site: [27, 28]\n"
     ]
    },
    {
     "name": "stderr",
     "output_type": "stream",
     "text": [
      "2024-06-27 07:33:59,918[DEBUG] use direct eigensolver\n"
     ]
    },
    {
     "name": "stderr",
     "output_type": "stream",
     "text": [
      "2024-06-27 07:34:00,176[DEBUG] energy: -13.996832655533995\n"
     ]
    },
    {
     "name": "stderr",
     "output_type": "stream",
     "text": [
      "2024-06-27 07:34:00,179[DEBUG] optimize site: [26, 27]\n"
     ]
    },
    {
     "name": "stderr",
     "output_type": "stream",
     "text": [
      "2024-06-27 07:34:00,205[DEBUG] use davidson, HC hops: 4\n"
     ]
    },
    {
     "name": "stderr",
     "output_type": "stream",
     "text": [
      "2024-06-27 07:34:00,208[DEBUG] energy: -13.996832655813625\n"
     ]
    },
    {
     "name": "stderr",
     "output_type": "stream",
     "text": [
      "2024-06-27 07:34:00,213[DEBUG] optimize site: [25, 26]\n"
     ]
    },
    {
     "name": "stderr",
     "output_type": "stream",
     "text": [
      "2024-06-27 07:34:00,263[DEBUG] use davidson, HC hops: 22\n"
     ]
    },
    {
     "name": "stderr",
     "output_type": "stream",
     "text": [
      "2024-06-27 07:34:00,265[DEBUG] energy: -13.996844945038356\n"
     ]
    },
    {
     "name": "stderr",
     "output_type": "stream",
     "text": [
      "2024-06-27 07:34:00,270[DEBUG] optimize site: [24, 25]\n"
     ]
    },
    {
     "name": "stderr",
     "output_type": "stream",
     "text": [
      "2024-06-27 07:34:00,321[DEBUG] use davidson, HC hops: 28\n"
     ]
    },
    {
     "name": "stderr",
     "output_type": "stream",
     "text": [
      "2024-06-27 07:34:00,323[DEBUG] energy: -13.997067101658764\n"
     ]
    },
    {
     "name": "stderr",
     "output_type": "stream",
     "text": [
      "2024-06-27 07:34:00,328[DEBUG] optimize site: [23, 24]\n"
     ]
    },
    {
     "name": "stderr",
     "output_type": "stream",
     "text": [
      "2024-06-27 07:34:00,376[DEBUG] use davidson, HC hops: 25\n"
     ]
    },
    {
     "name": "stderr",
     "output_type": "stream",
     "text": [
      "2024-06-27 07:34:00,378[DEBUG] energy: -13.99710168471752\n"
     ]
    },
    {
     "name": "stderr",
     "output_type": "stream",
     "text": [
      "2024-06-27 07:34:00,383[DEBUG] optimize site: [22, 23]\n"
     ]
    },
    {
     "name": "stderr",
     "output_type": "stream",
     "text": [
      "2024-06-27 07:34:00,427[DEBUG] use davidson, HC hops: 23\n"
     ]
    },
    {
     "name": "stderr",
     "output_type": "stream",
     "text": [
      "2024-06-27 07:34:00,429[DEBUG] energy: -13.997106608213702\n"
     ]
    },
    {
     "name": "stderr",
     "output_type": "stream",
     "text": [
      "2024-06-27 07:34:00,434[DEBUG] optimize site: [21, 22]\n"
     ]
    },
    {
     "name": "stderr",
     "output_type": "stream",
     "text": [
      "2024-06-27 07:34:00,478[DEBUG] use davidson, HC hops: 23\n"
     ]
    },
    {
     "name": "stderr",
     "output_type": "stream",
     "text": [
      "2024-06-27 07:34:00,481[DEBUG] energy: -13.997113698271137\n"
     ]
    },
    {
     "name": "stderr",
     "output_type": "stream",
     "text": [
      "2024-06-27 07:34:00,485[DEBUG] optimize site: [20, 21]\n"
     ]
    },
    {
     "name": "stderr",
     "output_type": "stream",
     "text": [
      "2024-06-27 07:34:00,534[DEBUG] use davidson, HC hops: 26\n"
     ]
    },
    {
     "name": "stderr",
     "output_type": "stream",
     "text": [
      "2024-06-27 07:34:00,536[DEBUG] energy: -13.997162638323562\n"
     ]
    },
    {
     "name": "stderr",
     "output_type": "stream",
     "text": [
      "2024-06-27 07:34:00,541[DEBUG] optimize site: [19, 20]\n"
     ]
    },
    {
     "name": "stderr",
     "output_type": "stream",
     "text": [
      "2024-06-27 07:34:00,585[DEBUG] use davidson, HC hops: 23\n"
     ]
    },
    {
     "name": "stderr",
     "output_type": "stream",
     "text": [
      "2024-06-27 07:34:00,587[DEBUG] energy: -13.997170144965573\n"
     ]
    },
    {
     "name": "stderr",
     "output_type": "stream",
     "text": [
      "2024-06-27 07:34:00,592[DEBUG] optimize site: [18, 19]\n"
     ]
    },
    {
     "name": "stderr",
     "output_type": "stream",
     "text": [
      "2024-06-27 07:34:00,640[DEBUG] use davidson, HC hops: 26\n"
     ]
    },
    {
     "name": "stderr",
     "output_type": "stream",
     "text": [
      "2024-06-27 07:34:00,643[DEBUG] energy: -13.997199975427433\n"
     ]
    },
    {
     "name": "stderr",
     "output_type": "stream",
     "text": [
      "2024-06-27 07:34:00,648[DEBUG] optimize site: [17, 18]\n"
     ]
    },
    {
     "name": "stderr",
     "output_type": "stream",
     "text": [
      "2024-06-27 07:34:00,689[DEBUG] use davidson, HC hops: 22\n"
     ]
    },
    {
     "name": "stderr",
     "output_type": "stream",
     "text": [
      "2024-06-27 07:34:00,692[DEBUG] energy: -13.997204392621633\n"
     ]
    },
    {
     "name": "stderr",
     "output_type": "stream",
     "text": [
      "2024-06-27 07:34:00,696[DEBUG] optimize site: [16, 17]\n"
     ]
    },
    {
     "name": "stderr",
     "output_type": "stream",
     "text": [
      "2024-06-27 07:34:00,745[DEBUG] use davidson, HC hops: 25\n"
     ]
    },
    {
     "name": "stderr",
     "output_type": "stream",
     "text": [
      "2024-06-27 07:34:00,747[DEBUG] energy: -13.997225037523839\n"
     ]
    },
    {
     "name": "stderr",
     "output_type": "stream",
     "text": [
      "2024-06-27 07:34:00,752[DEBUG] optimize site: [15, 16]\n"
     ]
    },
    {
     "name": "stderr",
     "output_type": "stream",
     "text": [
      "2024-06-27 07:34:00,800[DEBUG] use davidson, HC hops: 26\n"
     ]
    },
    {
     "name": "stderr",
     "output_type": "stream",
     "text": [
      "2024-06-27 07:34:00,803[DEBUG] energy: -13.99728491812122\n"
     ]
    },
    {
     "name": "stderr",
     "output_type": "stream",
     "text": [
      "2024-06-27 07:34:00,807[DEBUG] optimize site: [14, 15]\n"
     ]
    },
    {
     "name": "stderr",
     "output_type": "stream",
     "text": [
      "2024-06-27 07:34:00,850[DEBUG] use davidson, HC hops: 22\n"
     ]
    },
    {
     "name": "stderr",
     "output_type": "stream",
     "text": [
      "2024-06-27 07:34:00,852[DEBUG] energy: -13.997290859971297\n"
     ]
    },
    {
     "name": "stderr",
     "output_type": "stream",
     "text": [
      "2024-06-27 07:34:00,857[DEBUG] optimize site: [13, 14]\n"
     ]
    },
    {
     "name": "stderr",
     "output_type": "stream",
     "text": [
      "2024-06-27 07:34:00,895[DEBUG] use davidson, HC hops: 20\n"
     ]
    },
    {
     "name": "stderr",
     "output_type": "stream",
     "text": [
      "2024-06-27 07:34:00,897[DEBUG] energy: -13.997293257653844\n"
     ]
    },
    {
     "name": "stderr",
     "output_type": "stream",
     "text": [
      "2024-06-27 07:34:00,902[DEBUG] optimize site: [12, 13]\n"
     ]
    },
    {
     "name": "stderr",
     "output_type": "stream",
     "text": [
      "2024-06-27 07:34:00,946[DEBUG] use davidson, HC hops: 23\n"
     ]
    },
    {
     "name": "stderr",
     "output_type": "stream",
     "text": [
      "2024-06-27 07:34:00,948[DEBUG] energy: -13.997306225086705\n"
     ]
    },
    {
     "name": "stderr",
     "output_type": "stream",
     "text": [
      "2024-06-27 07:34:00,953[DEBUG] optimize site: [11, 12]\n"
     ]
    },
    {
     "name": "stderr",
     "output_type": "stream",
     "text": [
      "2024-06-27 07:34:00,993[DEBUG] use davidson, HC hops: 21\n"
     ]
    },
    {
     "name": "stderr",
     "output_type": "stream",
     "text": [
      "2024-06-27 07:34:00,995[DEBUG] energy: -13.99731114559565\n"
     ]
    },
    {
     "name": "stderr",
     "output_type": "stream",
     "text": [
      "2024-06-27 07:34:01,000[DEBUG] optimize site: [10, 11]\n"
     ]
    },
    {
     "name": "stderr",
     "output_type": "stream",
     "text": [
      "2024-06-27 07:34:01,039[DEBUG] use davidson, HC hops: 20\n"
     ]
    },
    {
     "name": "stderr",
     "output_type": "stream",
     "text": [
      "2024-06-27 07:34:01,041[DEBUG] energy: -13.997313132707525\n"
     ]
    },
    {
     "name": "stderr",
     "output_type": "stream",
     "text": [
      "2024-06-27 07:34:01,049[DEBUG] optimize site: [9, 10]\n"
     ]
    },
    {
     "name": "stderr",
     "output_type": "stream",
     "text": [
      "2024-06-27 07:34:01,082[DEBUG] use davidson, HC hops: 17\n"
     ]
    },
    {
     "name": "stderr",
     "output_type": "stream",
     "text": [
      "2024-06-27 07:34:01,084[DEBUG] energy: -13.9973144286264\n"
     ]
    },
    {
     "name": "stderr",
     "output_type": "stream",
     "text": [
      "2024-06-27 07:34:01,089[DEBUG] optimize site: [8, 9]\n"
     ]
    },
    {
     "name": "stderr",
     "output_type": "stream",
     "text": [
      "2024-06-27 07:34:01,113[DEBUG] use davidson, HC hops: 11\n"
     ]
    },
    {
     "name": "stderr",
     "output_type": "stream",
     "text": [
      "2024-06-27 07:34:01,115[DEBUG] energy: -13.997314715468715\n"
     ]
    },
    {
     "name": "stderr",
     "output_type": "stream",
     "text": [
      "2024-06-27 07:34:01,120[DEBUG] optimize site: [7, 8]\n"
     ]
    },
    {
     "name": "stderr",
     "output_type": "stream",
     "text": [
      "2024-06-27 07:34:01,136[DEBUG] use davidson, HC hops: 7\n"
     ]
    },
    {
     "name": "stderr",
     "output_type": "stream",
     "text": [
      "2024-06-27 07:34:01,139[DEBUG] energy: -13.997314712669827\n"
     ]
    },
    {
     "name": "stderr",
     "output_type": "stream",
     "text": [
      "2024-06-27 07:34:01,143[DEBUG] optimize site: [6, 7]\n"
     ]
    },
    {
     "name": "stderr",
     "output_type": "stream",
     "text": [
      "2024-06-27 07:34:01,169[DEBUG] use davidson, HC hops: 12\n"
     ]
    },
    {
     "name": "stderr",
     "output_type": "stream",
     "text": [
      "2024-06-27 07:34:01,172[DEBUG] energy: -13.99731499975008\n"
     ]
    },
    {
     "name": "stderr",
     "output_type": "stream",
     "text": [
      "2024-06-27 07:34:01,177[DEBUG] optimize site: [5, 6]\n"
     ]
    },
    {
     "name": "stderr",
     "output_type": "stream",
     "text": [
      "2024-06-27 07:34:01,193[DEBUG] use davidson, HC hops: 7\n"
     ]
    },
    {
     "name": "stderr",
     "output_type": "stream",
     "text": [
      "2024-06-27 07:34:01,195[DEBUG] energy: -13.997315003811492\n"
     ]
    },
    {
     "name": "stderr",
     "output_type": "stream",
     "text": [
      "2024-06-27 07:34:01,200[DEBUG] optimize site: [4, 5]\n"
     ]
    },
    {
     "name": "stderr",
     "output_type": "stream",
     "text": [
      "2024-06-27 07:34:01,212[DEBUG] use davidson, HC hops: 5\n"
     ]
    },
    {
     "name": "stderr",
     "output_type": "stream",
     "text": [
      "2024-06-27 07:34:01,214[DEBUG] energy: -13.997315004767824\n"
     ]
    },
    {
     "name": "stderr",
     "output_type": "stream",
     "text": [
      "2024-06-27 07:34:01,217[DEBUG] optimize site: [3, 4]\n"
     ]
    },
    {
     "name": "stderr",
     "output_type": "stream",
     "text": [
      "2024-06-27 07:34:01,221[DEBUG] use direct eigensolver\n"
     ]
    },
    {
     "name": "stderr",
     "output_type": "stream",
     "text": [
      "2024-06-27 07:34:01,490[DEBUG] energy: -13.997315004467135\n"
     ]
    },
    {
     "name": "stderr",
     "output_type": "stream",
     "text": [
      "2024-06-27 07:34:01,494[DEBUG] optimize site: [2, 3]\n"
     ]
    },
    {
     "name": "stderr",
     "output_type": "stream",
     "text": [
      "2024-06-27 07:34:01,502[DEBUG] use direct eigensolver\n"
     ]
    },
    {
     "name": "stderr",
     "output_type": "stream",
     "text": [
      "2024-06-27 07:34:01,580[DEBUG] energy: -13.997315004467126\n"
     ]
    },
    {
     "name": "stderr",
     "output_type": "stream",
     "text": [
      "2024-06-27 07:34:01,583[DEBUG] optimize site: [1, 2]\n"
     ]
    },
    {
     "name": "stderr",
     "output_type": "stream",
     "text": [
      "2024-06-27 07:34:01,586[DEBUG] use direct eigensolver\n"
     ]
    },
    {
     "name": "stderr",
     "output_type": "stream",
     "text": [
      "2024-06-27 07:34:01,596[DEBUG] energy: -13.997315004467119\n"
     ]
    },
    {
     "name": "stderr",
     "output_type": "stream",
     "text": [
      "2024-06-27 07:34:01,598[DEBUG] optimize site: [0, 1]\n"
     ]
    },
    {
     "name": "stderr",
     "output_type": "stream",
     "text": [
      "2024-06-27 07:34:01,601[DEBUG] use direct eigensolver\n"
     ]
    },
    {
     "name": "stderr",
     "output_type": "stream",
     "text": [
      "2024-06-27 07:34:01,606[DEBUG] energy: -13.99731500446713\n"
     ]
    },
    {
     "name": "stderr",
     "output_type": "stream",
     "text": [
      "2024-06-27 07:34:01,608[DEBUG] 2 sweeps are finished, lowest energy = -13.997315004767824\n"
     ]
    },
    {
     "name": "stderr",
     "output_type": "stream",
     "text": [
      "2024-06-27 07:34:01,611[DEBUG] isweep: 2\n"
     ]
    },
    {
     "name": "stderr",
     "output_type": "stream",
     "text": [
      "2024-06-27 07:34:01,613[DEBUG] compress config in current loop: 30, percent: 0\n"
     ]
    },
    {
     "name": "stderr",
     "output_type": "stream",
     "text": [
      "2024-06-27 07:34:01,615[DEBUG] mps current size: 343.7KiB, Matrix product bond dim:[1, 4, 8, 16, 30, 30, 30, 30, 30, 30, 30, 30, 30, 30, 30, 30, 30, 30, 30, 30, 30, 30, 30, 30, 30, 30, 30, 30, 16, 8, 4, 2, 1]\n"
     ]
    },
    {
     "name": "stderr",
     "output_type": "stream",
     "text": [
      "2024-06-27 07:34:01,617[DEBUG] optimize site: [0, 1]\n"
     ]
    },
    {
     "name": "stderr",
     "output_type": "stream",
     "text": [
      "2024-06-27 07:34:01,619[DEBUG] use direct eigensolver\n"
     ]
    },
    {
     "name": "stderr",
     "output_type": "stream",
     "text": [
      "2024-06-27 07:34:01,622[DEBUG] energy: -13.99731500446713\n"
     ]
    },
    {
     "name": "stderr",
     "output_type": "stream",
     "text": [
      "2024-06-27 07:34:01,624[DEBUG] optimize site: [1, 2]\n"
     ]
    },
    {
     "name": "stderr",
     "output_type": "stream",
     "text": [
      "2024-06-27 07:34:01,626[DEBUG] use direct eigensolver\n"
     ]
    },
    {
     "name": "stderr",
     "output_type": "stream",
     "text": [
      "2024-06-27 07:34:01,631[DEBUG] energy: -13.997315004467117\n"
     ]
    },
    {
     "name": "stderr",
     "output_type": "stream",
     "text": [
      "2024-06-27 07:34:01,634[DEBUG] optimize site: [2, 3]\n"
     ]
    },
    {
     "name": "stderr",
     "output_type": "stream",
     "text": [
      "2024-06-27 07:34:01,636[DEBUG] use direct eigensolver\n"
     ]
    },
    {
     "name": "stderr",
     "output_type": "stream",
     "text": [
      "2024-06-27 07:34:01,712[DEBUG] energy: -13.99731500446713\n"
     ]
    },
    {
     "name": "stderr",
     "output_type": "stream",
     "text": [
      "2024-06-27 07:34:01,715[DEBUG] optimize site: [3, 4]\n"
     ]
    },
    {
     "name": "stderr",
     "output_type": "stream",
     "text": [
      "2024-06-27 07:34:01,718[DEBUG] use direct eigensolver\n"
     ]
    },
    {
     "name": "stderr",
     "output_type": "stream",
     "text": [
      "2024-06-27 07:34:01,979[DEBUG] energy: -13.997315004467145\n"
     ]
    },
    {
     "name": "stderr",
     "output_type": "stream",
     "text": [
      "2024-06-27 07:34:01,982[DEBUG] optimize site: [4, 5]\n"
     ]
    },
    {
     "name": "stderr",
     "output_type": "stream",
     "text": [
      "2024-06-27 07:34:01,996[DEBUG] use davidson, HC hops: 4\n"
     ]
    },
    {
     "name": "stderr",
     "output_type": "stream",
     "text": [
      "2024-06-27 07:34:01,999[DEBUG] energy: -13.997315004767886\n"
     ]
    },
    {
     "name": "stderr",
     "output_type": "stream",
     "text": [
      "2024-06-27 07:34:02,003[DEBUG] optimize site: [5, 6]\n"
     ]
    },
    {
     "name": "stderr",
     "output_type": "stream",
     "text": [
      "2024-06-27 07:34:02,018[DEBUG] use davidson, HC hops: 4\n"
     ]
    },
    {
     "name": "stderr",
     "output_type": "stream",
     "text": [
      "2024-06-27 07:34:02,020[DEBUG] energy: -13.997315004667772\n"
     ]
    },
    {
     "name": "stderr",
     "output_type": "stream",
     "text": [
      "2024-06-27 07:34:02,025[DEBUG] optimize site: [6, 7]\n"
     ]
    },
    {
     "name": "stderr",
     "output_type": "stream",
     "text": [
      "2024-06-27 07:34:02,040[DEBUG] use davidson, HC hops: 6\n"
     ]
    },
    {
     "name": "stderr",
     "output_type": "stream",
     "text": [
      "2024-06-27 07:34:02,042[DEBUG] energy: -13.997315012470695\n"
     ]
    },
    {
     "name": "stderr",
     "output_type": "stream",
     "text": [
      "2024-06-27 07:34:02,047[DEBUG] optimize site: [7, 8]\n"
     ]
    },
    {
     "name": "stderr",
     "output_type": "stream",
     "text": [
      "2024-06-27 07:34:02,065[DEBUG] use davidson, HC hops: 5\n"
     ]
    },
    {
     "name": "stderr",
     "output_type": "stream",
     "text": [
      "2024-06-27 07:34:02,068[DEBUG] energy: -13.997315006066694\n"
     ]
    },
    {
     "name": "stderr",
     "output_type": "stream",
     "text": [
      "2024-06-27 07:34:02,073[DEBUG] optimize site: [8, 9]\n"
     ]
    },
    {
     "name": "stderr",
     "output_type": "stream",
     "text": [
      "2024-06-27 07:34:02,089[DEBUG] use davidson, HC hops: 7\n"
     ]
    },
    {
     "name": "stderr",
     "output_type": "stream",
     "text": [
      "2024-06-27 07:34:02,091[DEBUG] energy: -13.99731503337456\n"
     ]
    },
    {
     "name": "stderr",
     "output_type": "stream",
     "text": [
      "2024-06-27 07:34:02,096[DEBUG] optimize site: [9, 10]\n"
     ]
    },
    {
     "name": "stderr",
     "output_type": "stream",
     "text": [
      "2024-06-27 07:34:02,111[DEBUG] use davidson, HC hops: 6\n"
     ]
    },
    {
     "name": "stderr",
     "output_type": "stream",
     "text": [
      "2024-06-27 07:34:02,113[DEBUG] energy: -13.997315010122003\n"
     ]
    },
    {
     "name": "stderr",
     "output_type": "stream",
     "text": [
      "2024-06-27 07:34:02,118[DEBUG] optimize site: [10, 11]\n"
     ]
    },
    {
     "name": "stderr",
     "output_type": "stream",
     "text": [
      "2024-06-27 07:34:02,135[DEBUG] use davidson, HC hops: 8\n"
     ]
    },
    {
     "name": "stderr",
     "output_type": "stream",
     "text": [
      "2024-06-27 07:34:02,138[DEBUG] energy: -13.997315055776912\n"
     ]
    },
    {
     "name": "stderr",
     "output_type": "stream",
     "text": [
      "2024-06-27 07:34:02,143[DEBUG] optimize site: [11, 12]\n"
     ]
    },
    {
     "name": "stderr",
     "output_type": "stream",
     "text": [
      "2024-06-27 07:34:02,159[DEBUG] use davidson, HC hops: 7\n"
     ]
    },
    {
     "name": "stderr",
     "output_type": "stream",
     "text": [
      "2024-06-27 07:34:02,161[DEBUG] energy: -13.997315015890504\n"
     ]
    },
    {
     "name": "stderr",
     "output_type": "stream",
     "text": [
      "2024-06-27 07:34:02,166[DEBUG] optimize site: [12, 13]\n"
     ]
    },
    {
     "name": "stderr",
     "output_type": "stream",
     "text": [
      "2024-06-27 07:34:02,184[DEBUG] use davidson, HC hops: 8\n"
     ]
    },
    {
     "name": "stderr",
     "output_type": "stream",
     "text": [
      "2024-06-27 07:34:02,186[DEBUG] energy: -13.99731507675942\n"
     ]
    },
    {
     "name": "stderr",
     "output_type": "stream",
     "text": [
      "2024-06-27 07:34:02,191[DEBUG] optimize site: [13, 14]\n"
     ]
    },
    {
     "name": "stderr",
     "output_type": "stream",
     "text": [
      "2024-06-27 07:34:02,203[DEBUG] use davidson, HC hops: 7\n"
     ]
    },
    {
     "name": "stderr",
     "output_type": "stream",
     "text": [
      "2024-06-27 07:34:02,205[DEBUG] energy: -13.997315021063795\n"
     ]
    },
    {
     "name": "stderr",
     "output_type": "stream",
     "text": [
      "2024-06-27 07:34:02,209[DEBUG] optimize site: [14, 15]\n"
     ]
    },
    {
     "name": "stderr",
     "output_type": "stream",
     "text": [
      "2024-06-27 07:34:02,228[DEBUG] use davidson, HC hops: 8\n"
     ]
    },
    {
     "name": "stderr",
     "output_type": "stream",
     "text": [
      "2024-06-27 07:34:02,230[DEBUG] energy: -13.99731508916352\n"
     ]
    },
    {
     "name": "stderr",
     "output_type": "stream",
     "text": [
      "2024-06-27 07:34:02,235[DEBUG] optimize site: [15, 16]\n"
     ]
    },
    {
     "name": "stderr",
     "output_type": "stream",
     "text": [
      "2024-06-27 07:34:02,253[DEBUG] use davidson, HC hops: 8\n"
     ]
    },
    {
     "name": "stderr",
     "output_type": "stream",
     "text": [
      "2024-06-27 07:34:02,255[DEBUG] energy: -13.997315023237757\n"
     ]
    },
    {
     "name": "stderr",
     "output_type": "stream",
     "text": [
      "2024-06-27 07:34:02,260[DEBUG] optimize site: [16, 17]\n"
     ]
    },
    {
     "name": "stderr",
     "output_type": "stream",
     "text": [
      "2024-06-27 07:34:02,280[DEBUG] use davidson, HC hops: 9\n"
     ]
    },
    {
     "name": "stderr",
     "output_type": "stream",
     "text": [
      "2024-06-27 07:34:02,282[DEBUG] energy: -13.997315090211648\n"
     ]
    },
    {
     "name": "stderr",
     "output_type": "stream",
     "text": [
      "2024-06-27 07:34:02,287[DEBUG] optimize site: [17, 18]\n"
     ]
    },
    {
     "name": "stderr",
     "output_type": "stream",
     "text": [
      "2024-06-27 07:34:02,305[DEBUG] use davidson, HC hops: 8\n"
     ]
    },
    {
     "name": "stderr",
     "output_type": "stream",
     "text": [
      "2024-06-27 07:34:02,307[DEBUG] energy: -13.997315022014266\n"
     ]
    },
    {
     "name": "stderr",
     "output_type": "stream",
     "text": [
      "2024-06-27 07:34:02,312[DEBUG] optimize site: [18, 19]\n"
     ]
    },
    {
     "name": "stderr",
     "output_type": "stream",
     "text": [
      "2024-06-27 07:34:02,330[DEBUG] use davidson, HC hops: 8\n"
     ]
    },
    {
     "name": "stderr",
     "output_type": "stream",
     "text": [
      "2024-06-27 07:34:02,332[DEBUG] energy: -13.99731507921254\n"
     ]
    },
    {
     "name": "stderr",
     "output_type": "stream",
     "text": [
      "2024-06-27 07:34:02,337[DEBUG] optimize site: [19, 20]\n"
     ]
    },
    {
     "name": "stderr",
     "output_type": "stream",
     "text": [
      "2024-06-27 07:34:02,356[DEBUG] use davidson, HC hops: 7\n"
     ]
    },
    {
     "name": "stderr",
     "output_type": "stream",
     "text": [
      "2024-06-27 07:34:02,358[DEBUG] energy: -13.997315018389667\n"
     ]
    },
    {
     "name": "stderr",
     "output_type": "stream",
     "text": [
      "2024-06-27 07:34:02,363[DEBUG] optimize site: [20, 21]\n"
     ]
    },
    {
     "name": "stderr",
     "output_type": "stream",
     "text": [
      "2024-06-27 07:34:02,381[DEBUG] use davidson, HC hops: 8\n"
     ]
    },
    {
     "name": "stderr",
     "output_type": "stream",
     "text": [
      "2024-06-27 07:34:02,383[DEBUG] energy: -13.997315060471546\n"
     ]
    },
    {
     "name": "stderr",
     "output_type": "stream",
     "text": [
      "2024-06-27 07:34:02,388[DEBUG] optimize site: [21, 22]\n"
     ]
    },
    {
     "name": "stderr",
     "output_type": "stream",
     "text": [
      "2024-06-27 07:34:02,402[DEBUG] use davidson, HC hops: 6\n"
     ]
    },
    {
     "name": "stderr",
     "output_type": "stream",
     "text": [
      "2024-06-27 07:34:02,405[DEBUG] energy: -13.997315014222945\n"
     ]
    },
    {
     "name": "stderr",
     "output_type": "stream",
     "text": [
      "2024-06-27 07:34:02,409[DEBUG] optimize site: [22, 23]\n"
     ]
    },
    {
     "name": "stderr",
     "output_type": "stream",
     "text": [
      "2024-06-27 07:34:02,427[DEBUG] use davidson, HC hops: 8\n"
     ]
    },
    {
     "name": "stderr",
     "output_type": "stream",
     "text": [
      "2024-06-27 07:34:02,429[DEBUG] energy: -13.99731503638073\n"
     ]
    },
    {
     "name": "stderr",
     "output_type": "stream",
     "text": [
      "2024-06-27 07:34:02,434[DEBUG] optimize site: [23, 24]\n"
     ]
    },
    {
     "name": "stderr",
     "output_type": "stream",
     "text": [
      "2024-06-27 07:34:02,451[DEBUG] use davidson, HC hops: 6\n"
     ]
    },
    {
     "name": "stderr",
     "output_type": "stream",
     "text": [
      "2024-06-27 07:34:02,452[DEBUG] energy: -13.99731500906332\n"
     ]
    },
    {
     "name": "stderr",
     "output_type": "stream",
     "text": [
      "2024-06-27 07:34:02,457[DEBUG] optimize site: [24, 25]\n"
     ]
    },
    {
     "name": "stderr",
     "output_type": "stream",
     "text": [
      "2024-06-27 07:34:02,476[DEBUG] use davidson, HC hops: 6\n"
     ]
    },
    {
     "name": "stderr",
     "output_type": "stream",
     "text": [
      "2024-06-27 07:34:02,477[DEBUG] energy: -13.997315015431813\n"
     ]
    },
    {
     "name": "stderr",
     "output_type": "stream",
     "text": [
      "2024-06-27 07:34:02,482[DEBUG] optimize site: [25, 26]\n"
     ]
    },
    {
     "name": "stderr",
     "output_type": "stream",
     "text": [
      "2024-06-27 07:34:02,497[DEBUG] use davidson, HC hops: 5\n"
     ]
    },
    {
     "name": "stderr",
     "output_type": "stream",
     "text": [
      "2024-06-27 07:34:02,500[DEBUG] energy: -13.997315007630498\n"
     ]
    },
    {
     "name": "stderr",
     "output_type": "stream",
     "text": [
      "2024-06-27 07:34:02,504[DEBUG] optimize site: [26, 27]\n"
     ]
    },
    {
     "name": "stderr",
     "output_type": "stream",
     "text": [
      "2024-06-27 07:34:02,516[DEBUG] use davidson, HC hops: 4\n"
     ]
    },
    {
     "name": "stderr",
     "output_type": "stream",
     "text": [
      "2024-06-27 07:34:02,518[DEBUG] energy: -13.99731500772745\n"
     ]
    },
    {
     "name": "stderr",
     "output_type": "stream",
     "text": [
      "2024-06-27 07:34:02,521[DEBUG] optimize site: [27, 28]\n"
     ]
    },
    {
     "name": "stderr",
     "output_type": "stream",
     "text": [
      "2024-06-27 07:34:02,525[DEBUG] use direct eigensolver\n"
     ]
    },
    {
     "name": "stderr",
     "output_type": "stream",
     "text": [
      "2024-06-27 07:34:02,796[DEBUG] energy: -13.9973150074274\n"
     ]
    },
    {
     "name": "stderr",
     "output_type": "stream",
     "text": [
      "2024-06-27 07:34:02,800[DEBUG] optimize site: [28, 29]\n"
     ]
    },
    {
     "name": "stderr",
     "output_type": "stream",
     "text": [
      "2024-06-27 07:34:02,808[DEBUG] use direct eigensolver\n"
     ]
    },
    {
     "name": "stderr",
     "output_type": "stream",
     "text": [
      "2024-06-27 07:34:02,886[DEBUG] energy: -13.997315007427396\n"
     ]
    },
    {
     "name": "stderr",
     "output_type": "stream",
     "text": [
      "2024-06-27 07:34:02,889[DEBUG] optimize site: [29, 30]\n"
     ]
    },
    {
     "name": "stderr",
     "output_type": "stream",
     "text": [
      "2024-06-27 07:34:02,892[DEBUG] use direct eigensolver\n"
     ]
    },
    {
     "name": "stderr",
     "output_type": "stream",
     "text": [
      "2024-06-27 07:34:02,901[DEBUG] energy: -13.997315007427387\n"
     ]
    },
    {
     "name": "stderr",
     "output_type": "stream",
     "text": [
      "2024-06-27 07:34:02,904[DEBUG] optimize site: [30, 31]\n"
     ]
    },
    {
     "name": "stderr",
     "output_type": "stream",
     "text": [
      "2024-06-27 07:34:02,907[DEBUG] use direct eigensolver\n"
     ]
    },
    {
     "name": "stderr",
     "output_type": "stream",
     "text": [
      "2024-06-27 07:34:02,911[DEBUG] energy: -13.997315007427405\n"
     ]
    },
    {
     "name": "stderr",
     "output_type": "stream",
     "text": [
      "2024-06-27 07:34:02,914[DEBUG] 3 sweeps are finished, lowest energy = -13.997315090211648\n"
     ]
    },
    {
     "name": "stderr",
     "output_type": "stream",
     "text": [
      "2024-06-27 07:34:02,917[INFO] DMRG has converged!\n"
     ]
    },
    {
     "name": "stderr",
     "output_type": "stream",
     "text": [
      "2024-06-27 07:34:02,951[INFO] mps current size: 329.7KiB, Matrix product bond dim:[1, 2, 4, 8, 16, 30, 30, 30, 30, 30, 30, 30, 30, 30, 30, 30, 30, 30, 30, 30, 30, 30, 30, 30, 30, 30, 30, 30, 16, 8, 4, 2, 1]\n"
     ]
    },
    {
     "name": "stdout",
     "output_type": "stream",
     "text": [
      "gs energy: -13.997315090211648\n"
     ]
    }
   ],
   "source": [
    "# set the sweep paramter\n",
    "M = 30\n",
    "procedure = [[M, 0.2], [M, 0], [M, 0], [M,0], [M,0]]\n",
    "\n",
    "# initialize a random MPS\n",
    "qntot = 0\n",
    "mps = Mps.random(model, qntot, M)\n",
    "\n",
    "mps.optimize_config.procedure = procedure\n",
    "mps.optimize_config.method = \"2site\"\n",
    "\n",
    "# optimize MPS\n",
    "energies, _ = optimize_mps(mps.copy(), mpo)\n",
    "print(\"gs energy:\", min(energies))"
   ]
  },
  {
   "cell_type": "code",
   "execution_count": null,
   "metadata": {},
   "outputs": [],
   "source": []
  }
 ],
 "metadata": {
  "kernelspec": {
   "display_name": "Python 3 (ipykernel)",
   "language": "python",
   "name": "python3"
  },
  "language_info": {
   "codemirror_mode": {
    "name": "ipython",
    "version": 3
   },
   "file_extension": ".py",
   "mimetype": "text/x-python",
   "name": "python",
   "nbconvert_exporter": "python",
   "pygments_lexer": "ipython3",
   "version": "3.8.18"
  }
 },
 "nbformat": 4,
 "nbformat_minor": 4
}
